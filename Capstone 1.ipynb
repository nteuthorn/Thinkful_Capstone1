{
 "cells": [
  {
   "cell_type": "code",
   "execution_count": 73,
   "metadata": {},
   "outputs": [],
   "source": [
    "#Import libraries\n",
    "\n",
    "import pandas as pd\n",
    "import numpy as np\n",
    "from scipy import stats\n",
    "from scipy import mean\n",
    "import matplotlib.pyplot as plt\n",
    "import seaborn as sns\n",
    "import math\n",
    "from statsmodels.stats.multicomp import pairwise_tukeyhsd"
   ]
  },
  {
   "cell_type": "code",
   "execution_count": 2,
   "metadata": {},
   "outputs": [
    {
     "data": {
      "text/html": [
       "<div>\n",
       "<style scoped>\n",
       "    .dataframe tbody tr th:only-of-type {\n",
       "        vertical-align: middle;\n",
       "    }\n",
       "\n",
       "    .dataframe tbody tr th {\n",
       "        vertical-align: top;\n",
       "    }\n",
       "\n",
       "    .dataframe thead th {\n",
       "        text-align: right;\n",
       "    }\n",
       "</style>\n",
       "<table border=\"1\" class=\"dataframe\">\n",
       "  <thead>\n",
       "    <tr style=\"text-align: right;\">\n",
       "      <th></th>\n",
       "      <th>Unnamed: 0</th>\n",
       "      <th>Year</th>\n",
       "      <th>Player</th>\n",
       "      <th>Pos</th>\n",
       "      <th>Age</th>\n",
       "      <th>Tm</th>\n",
       "      <th>G</th>\n",
       "      <th>GS</th>\n",
       "      <th>MP</th>\n",
       "      <th>PER</th>\n",
       "      <th>...</th>\n",
       "      <th>FT%</th>\n",
       "      <th>ORB</th>\n",
       "      <th>DRB</th>\n",
       "      <th>TRB</th>\n",
       "      <th>AST</th>\n",
       "      <th>STL</th>\n",
       "      <th>BLK</th>\n",
       "      <th>TOV</th>\n",
       "      <th>PF</th>\n",
       "      <th>PTS</th>\n",
       "    </tr>\n",
       "  </thead>\n",
       "  <tbody>\n",
       "    <tr>\n",
       "      <td>0</td>\n",
       "      <td>0</td>\n",
       "      <td>1950.0</td>\n",
       "      <td>Curly Armstrong</td>\n",
       "      <td>G-F</td>\n",
       "      <td>31.0</td>\n",
       "      <td>FTW</td>\n",
       "      <td>63.0</td>\n",
       "      <td>NaN</td>\n",
       "      <td>NaN</td>\n",
       "      <td>NaN</td>\n",
       "      <td>...</td>\n",
       "      <td>0.705</td>\n",
       "      <td>NaN</td>\n",
       "      <td>NaN</td>\n",
       "      <td>NaN</td>\n",
       "      <td>176.0</td>\n",
       "      <td>NaN</td>\n",
       "      <td>NaN</td>\n",
       "      <td>NaN</td>\n",
       "      <td>217.0</td>\n",
       "      <td>458.0</td>\n",
       "    </tr>\n",
       "    <tr>\n",
       "      <td>1</td>\n",
       "      <td>1</td>\n",
       "      <td>1950.0</td>\n",
       "      <td>Cliff Barker</td>\n",
       "      <td>SG</td>\n",
       "      <td>29.0</td>\n",
       "      <td>INO</td>\n",
       "      <td>49.0</td>\n",
       "      <td>NaN</td>\n",
       "      <td>NaN</td>\n",
       "      <td>NaN</td>\n",
       "      <td>...</td>\n",
       "      <td>0.708</td>\n",
       "      <td>NaN</td>\n",
       "      <td>NaN</td>\n",
       "      <td>NaN</td>\n",
       "      <td>109.0</td>\n",
       "      <td>NaN</td>\n",
       "      <td>NaN</td>\n",
       "      <td>NaN</td>\n",
       "      <td>99.0</td>\n",
       "      <td>279.0</td>\n",
       "    </tr>\n",
       "    <tr>\n",
       "      <td>2</td>\n",
       "      <td>2</td>\n",
       "      <td>1950.0</td>\n",
       "      <td>Leo Barnhorst</td>\n",
       "      <td>SF</td>\n",
       "      <td>25.0</td>\n",
       "      <td>CHS</td>\n",
       "      <td>67.0</td>\n",
       "      <td>NaN</td>\n",
       "      <td>NaN</td>\n",
       "      <td>NaN</td>\n",
       "      <td>...</td>\n",
       "      <td>0.698</td>\n",
       "      <td>NaN</td>\n",
       "      <td>NaN</td>\n",
       "      <td>NaN</td>\n",
       "      <td>140.0</td>\n",
       "      <td>NaN</td>\n",
       "      <td>NaN</td>\n",
       "      <td>NaN</td>\n",
       "      <td>192.0</td>\n",
       "      <td>438.0</td>\n",
       "    </tr>\n",
       "    <tr>\n",
       "      <td>3</td>\n",
       "      <td>3</td>\n",
       "      <td>1950.0</td>\n",
       "      <td>Ed Bartels</td>\n",
       "      <td>F</td>\n",
       "      <td>24.0</td>\n",
       "      <td>TOT</td>\n",
       "      <td>15.0</td>\n",
       "      <td>NaN</td>\n",
       "      <td>NaN</td>\n",
       "      <td>NaN</td>\n",
       "      <td>...</td>\n",
       "      <td>0.559</td>\n",
       "      <td>NaN</td>\n",
       "      <td>NaN</td>\n",
       "      <td>NaN</td>\n",
       "      <td>20.0</td>\n",
       "      <td>NaN</td>\n",
       "      <td>NaN</td>\n",
       "      <td>NaN</td>\n",
       "      <td>29.0</td>\n",
       "      <td>63.0</td>\n",
       "    </tr>\n",
       "    <tr>\n",
       "      <td>4</td>\n",
       "      <td>4</td>\n",
       "      <td>1950.0</td>\n",
       "      <td>Ed Bartels</td>\n",
       "      <td>F</td>\n",
       "      <td>24.0</td>\n",
       "      <td>DNN</td>\n",
       "      <td>13.0</td>\n",
       "      <td>NaN</td>\n",
       "      <td>NaN</td>\n",
       "      <td>NaN</td>\n",
       "      <td>...</td>\n",
       "      <td>0.548</td>\n",
       "      <td>NaN</td>\n",
       "      <td>NaN</td>\n",
       "      <td>NaN</td>\n",
       "      <td>20.0</td>\n",
       "      <td>NaN</td>\n",
       "      <td>NaN</td>\n",
       "      <td>NaN</td>\n",
       "      <td>27.0</td>\n",
       "      <td>59.0</td>\n",
       "    </tr>\n",
       "  </tbody>\n",
       "</table>\n",
       "<p>5 rows × 53 columns</p>\n",
       "</div>"
      ],
      "text/plain": [
       "   Unnamed: 0    Year           Player  Pos   Age   Tm     G  GS  MP  PER  \\\n",
       "0           0  1950.0  Curly Armstrong  G-F  31.0  FTW  63.0 NaN NaN  NaN   \n",
       "1           1  1950.0     Cliff Barker   SG  29.0  INO  49.0 NaN NaN  NaN   \n",
       "2           2  1950.0    Leo Barnhorst   SF  25.0  CHS  67.0 NaN NaN  NaN   \n",
       "3           3  1950.0       Ed Bartels    F  24.0  TOT  15.0 NaN NaN  NaN   \n",
       "4           4  1950.0       Ed Bartels    F  24.0  DNN  13.0 NaN NaN  NaN   \n",
       "\n",
       "   ...    FT%  ORB  DRB  TRB    AST  STL  BLK  TOV     PF    PTS  \n",
       "0  ...  0.705  NaN  NaN  NaN  176.0  NaN  NaN  NaN  217.0  458.0  \n",
       "1  ...  0.708  NaN  NaN  NaN  109.0  NaN  NaN  NaN   99.0  279.0  \n",
       "2  ...  0.698  NaN  NaN  NaN  140.0  NaN  NaN  NaN  192.0  438.0  \n",
       "3  ...  0.559  NaN  NaN  NaN   20.0  NaN  NaN  NaN   29.0   63.0  \n",
       "4  ...  0.548  NaN  NaN  NaN   20.0  NaN  NaN  NaN   27.0   59.0  \n",
       "\n",
       "[5 rows x 53 columns]"
      ]
     },
     "execution_count": 2,
     "metadata": {},
     "output_type": "execute_result"
    }
   ],
   "source": [
    "#Import player data\n",
    "\n",
    "players = pd.read_csv('..\\Python Data\\Seasons_Stats.csv')\n",
    "players.head()"
   ]
  },
  {
   "cell_type": "code",
   "execution_count": 3,
   "metadata": {},
   "outputs": [
    {
     "data": {
      "text/html": [
       "<div>\n",
       "<style scoped>\n",
       "    .dataframe tbody tr th:only-of-type {\n",
       "        vertical-align: middle;\n",
       "    }\n",
       "\n",
       "    .dataframe tbody tr th {\n",
       "        vertical-align: top;\n",
       "    }\n",
       "\n",
       "    .dataframe thead th {\n",
       "        text-align: right;\n",
       "    }\n",
       "</style>\n",
       "<table border=\"1\" class=\"dataframe\">\n",
       "  <thead>\n",
       "    <tr style=\"text-align: right;\">\n",
       "      <th></th>\n",
       "      <th>Season</th>\n",
       "      <th>Lg</th>\n",
       "      <th>Team</th>\n",
       "      <th>W</th>\n",
       "      <th>L</th>\n",
       "      <th>W/L%</th>\n",
       "      <th>Finish</th>\n",
       "      <th>SRS</th>\n",
       "      <th>Pace</th>\n",
       "      <th>Rel_Pace</th>\n",
       "      <th>ORtg</th>\n",
       "      <th>Rel_ORtg</th>\n",
       "      <th>DRtg</th>\n",
       "      <th>Rel_DRtg</th>\n",
       "      <th>Playoffs</th>\n",
       "      <th>Coaches</th>\n",
       "      <th>Top WS</th>\n",
       "    </tr>\n",
       "  </thead>\n",
       "  <tbody>\n",
       "    <tr>\n",
       "      <td>0</td>\n",
       "      <td>2017-18</td>\n",
       "      <td>NBA</td>\n",
       "      <td>Boston Celtics</td>\n",
       "      <td>29</td>\n",
       "      <td>10</td>\n",
       "      <td>0.744</td>\n",
       "      <td>1</td>\n",
       "      <td>4.38</td>\n",
       "      <td>95.4</td>\n",
       "      <td>-1.7</td>\n",
       "      <td>108.0</td>\n",
       "      <td>0.2</td>\n",
       "      <td>102.8</td>\n",
       "      <td>-5.0</td>\n",
       "      <td>NaN</td>\n",
       "      <td>B. Stevens (29-10)</td>\n",
       "      <td>K. Irving (5.7)</td>\n",
       "    </tr>\n",
       "    <tr>\n",
       "      <td>1</td>\n",
       "      <td>2016-17</td>\n",
       "      <td>NBA</td>\n",
       "      <td>Boston Celtics*</td>\n",
       "      <td>53</td>\n",
       "      <td>29</td>\n",
       "      <td>0.646</td>\n",
       "      <td>1</td>\n",
       "      <td>2.25</td>\n",
       "      <td>96.8</td>\n",
       "      <td>0.4</td>\n",
       "      <td>111.2</td>\n",
       "      <td>2.4</td>\n",
       "      <td>108.4</td>\n",
       "      <td>-0.4</td>\n",
       "      <td>Lost E. Conf. Finals</td>\n",
       "      <td>B. Stevens (53-29)</td>\n",
       "      <td>I. Thomas (12.5)</td>\n",
       "    </tr>\n",
       "    <tr>\n",
       "      <td>2</td>\n",
       "      <td>2015-16</td>\n",
       "      <td>NBA</td>\n",
       "      <td>Boston Celtics*</td>\n",
       "      <td>48</td>\n",
       "      <td>34</td>\n",
       "      <td>0.585</td>\n",
       "      <td>2</td>\n",
       "      <td>2.84</td>\n",
       "      <td>98.5</td>\n",
       "      <td>2.7</td>\n",
       "      <td>106.8</td>\n",
       "      <td>0.4</td>\n",
       "      <td>103.6</td>\n",
       "      <td>-2.8</td>\n",
       "      <td>Lost E. Conf. 1st Rnd.</td>\n",
       "      <td>B. Stevens (48-34)</td>\n",
       "      <td>I. Thomas (9.7)</td>\n",
       "    </tr>\n",
       "    <tr>\n",
       "      <td>3</td>\n",
       "      <td>2014-15</td>\n",
       "      <td>NBA</td>\n",
       "      <td>Boston Celtics*</td>\n",
       "      <td>40</td>\n",
       "      <td>42</td>\n",
       "      <td>0.488</td>\n",
       "      <td>2</td>\n",
       "      <td>-0.40</td>\n",
       "      <td>95.8</td>\n",
       "      <td>1.9</td>\n",
       "      <td>104.7</td>\n",
       "      <td>-0.9</td>\n",
       "      <td>104.5</td>\n",
       "      <td>-1.1</td>\n",
       "      <td>Lost E. Conf. 1st Rnd.</td>\n",
       "      <td>B. Stevens (40-42)</td>\n",
       "      <td>T. Zeller (6.5)</td>\n",
       "    </tr>\n",
       "    <tr>\n",
       "      <td>4</td>\n",
       "      <td>2013-14</td>\n",
       "      <td>NBA</td>\n",
       "      <td>Boston Celtics</td>\n",
       "      <td>25</td>\n",
       "      <td>57</td>\n",
       "      <td>0.305</td>\n",
       "      <td>4</td>\n",
       "      <td>-4.97</td>\n",
       "      <td>93.3</td>\n",
       "      <td>-0.6</td>\n",
       "      <td>102.9</td>\n",
       "      <td>-3.8</td>\n",
       "      <td>107.7</td>\n",
       "      <td>1.0</td>\n",
       "      <td>NaN</td>\n",
       "      <td>B. Stevens (25-57)</td>\n",
       "      <td>B. Bass (5.1)</td>\n",
       "    </tr>\n",
       "  </tbody>\n",
       "</table>\n",
       "</div>"
      ],
      "text/plain": [
       "    Season   Lg             Team   W   L   W/L%  Finish   SRS  Pace  Rel_Pace  \\\n",
       "0  2017-18  NBA   Boston Celtics  29  10  0.744       1  4.38  95.4      -1.7   \n",
       "1  2016-17  NBA  Boston Celtics*  53  29  0.646       1  2.25  96.8       0.4   \n",
       "2  2015-16  NBA  Boston Celtics*  48  34  0.585       2  2.84  98.5       2.7   \n",
       "3  2014-15  NBA  Boston Celtics*  40  42  0.488       2 -0.40  95.8       1.9   \n",
       "4  2013-14  NBA   Boston Celtics  25  57  0.305       4 -4.97  93.3      -0.6   \n",
       "\n",
       "    ORtg  Rel_ORtg   DRtg  Rel_DRtg                Playoffs  \\\n",
       "0  108.0       0.2  102.8      -5.0                     NaN   \n",
       "1  111.2       2.4  108.4      -0.4    Lost E. Conf. Finals   \n",
       "2  106.8       0.4  103.6      -2.8  Lost E. Conf. 1st Rnd.   \n",
       "3  104.7      -0.9  104.5      -1.1  Lost E. Conf. 1st Rnd.   \n",
       "4  102.9      -3.8  107.7       1.0                     NaN   \n",
       "\n",
       "              Coaches            Top WS  \n",
       "0  B. Stevens (29-10)   K. Irving (5.7)  \n",
       "1  B. Stevens (53-29)  I. Thomas (12.5)  \n",
       "2  B. Stevens (48-34)   I. Thomas (9.7)  \n",
       "3  B. Stevens (40-42)   T. Zeller (6.5)  \n",
       "4  B. Stevens (25-57)     B. Bass (5.1)  "
      ]
     },
     "execution_count": 3,
     "metadata": {},
     "output_type": "execute_result"
    }
   ],
   "source": [
    "#Import standings data\n",
    "\n",
    "standings = pd.read_csv('..\\Python Data\\Team_Records.csv')\n",
    "standings.head()"
   ]
  },
  {
   "cell_type": "code",
   "execution_count": 4,
   "metadata": {},
   "outputs": [],
   "source": [
    "#Format Season data to match Year in players dataframe\n",
    "\n",
    "standings.Season = standings.Season.str.slice(0,4).astype(int) + 1"
   ]
  },
  {
   "cell_type": "code",
   "execution_count": 5,
   "metadata": {},
   "outputs": [],
   "source": [
    "#Limit players dataframe and standings dataframe to only 1982-2017 seasons\n",
    "\n",
    "y82_players = players[(players.Year > 1982)].copy()\n",
    "y82_standings = standings[(standings.Season > 1982)].copy()\n",
    "y82_standings = y82_standings[(y82_standings.Season < 2018)]"
   ]
  },
  {
   "cell_type": "code",
   "execution_count": 6,
   "metadata": {
    "scrolled": true
   },
   "outputs": [
    {
     "data": {
      "text/plain": [
       "array(['LAL', 'PHO', 'DAL', 'BOS', 'DEN', 'TOT', 'PHI', 'UTA', 'SDC',\n",
       "       'CLE', 'NJN', 'HOU', 'WSB', 'SAS', 'DET', 'CHI', 'IND', 'GSW',\n",
       "       'MIL', 'SEA', 'ATL', 'POR', 'NYK', 'KCK', 'LAC', 'SAC', 'CHH',\n",
       "       'MIA', 'ORL', 'MIN', 'VAN', 'TOR', 'WAS', 'MEM', 'NOH', 'CHA',\n",
       "       'NOK', 'OKC', 'BRK', 'NOP', 'CHO'], dtype=object)"
      ]
     },
     "execution_count": 6,
     "metadata": {},
     "output_type": "execute_result"
    }
   ],
   "source": [
    "y82_players.Tm.unique()"
   ]
  },
  {
   "cell_type": "code",
   "execution_count": 7,
   "metadata": {},
   "outputs": [],
   "source": [
    "#Define regular expressions for team name acronyms\n",
    "\n",
    "acronyms = {'^Atlanta[ a-zA-Z*]+': 'ATL', '^Brooklyn[ a-zA-Z*]+': 'BRK', '^Boston[ a-zA-Z*]+': 'BOS', \n",
    "            '^Charlotte[ a-zA-Z*]+': 'CHA', '^Chicago[ a-zA-Z*]+': 'CHI', \n",
    "            '^Cleveland[ a-zA-Z*]+': 'CLE', '^Dallas[ a-zA-Z*]+': 'DAL', '^Denver[ a-zA-Z*]+': 'DEN', \n",
    "            '^Detroit[ a-zA-Z*]+': 'DET', '^Golden State[ a-zA-Z*]+': 'GSW', \n",
    "            '^Houston[ a-zA-Z*]+': 'HOU', '^Indiana[ a-zA-Z*]+': 'IND', '^Los Angeles C[ a-zA-Z*]+': 'LAC', \n",
    "            '^Los Angeles L[ a-zA-Z*]+': 'LAL', \n",
    "            '^Memphis[ a-zA-Z*]+': 'MEM', '^Miami[ a-zA-Z*]+': 'MIA', '^Milwaukee[ a-zA-Z*]+': 'MIL', \n",
    "            '^Minnesota[ a-zA-Z*]+': 'MIN', '^New Orleans[ a-zA-Z*/]+': 'NOP', \n",
    "            '^New York[ a-zA-Z*]+': 'NYK', '^Oklahoma City[ a-zA-Z*]+': 'OKC', '^Orlando[ a-zA-Z*]+': 'ORL', \n",
    "            '^Philadelphia[ a-zA-Z*0-9]+': 'PHI', \n",
    "            '^Phoenix[ a-zA-Z*]+': 'PHO', '^Portland[ a-zA-Z*]+': 'POR', '^Sacramento[ a-zA-Z*]+': 'SAC', \n",
    "            '^San Antonio[ a-zA-Z*]+': 'SAS', \n",
    "            '^Toronto[ a-zA-Z*]+': 'TOR', '^Utah[ a-zA-Z*]+': 'UTA', '^Washington[ a-zA-Z*]+': 'WAS',\n",
    "            '^Vancouver[ a-zA-Z*]+': 'MEM', '^New Jersey[ a-zA-Z*]+': 'BRK', '^Seattle[ a-zA-Z*]+': 'OKC',\n",
    "            '^San Diego[ a-zA-Z*]+': 'LAC', '^Kansas City[ a-zA-Z*]+': 'SAC'}"
   ]
  },
  {
   "cell_type": "code",
   "execution_count": 8,
   "metadata": {},
   "outputs": [
    {
     "data": {
      "text/plain": [
       "array(['BOS', 'TOR', 'NYK', 'PHI', 'BRK', 'MIN', 'OKC', 'DEN', 'POR',\n",
       "       'UTA', 'CLE', 'DET', 'MIL', 'IND', 'CHI', 'GSW', 'LAC', 'PHO',\n",
       "       'SAC', 'LAL', 'WAS', 'MIA', 'CHA', 'ORL', 'ATL', 'HOU', 'SAS',\n",
       "       'NOP', 'DAL', 'MEM'], dtype=object)"
      ]
     },
     "execution_count": 8,
     "metadata": {},
     "output_type": "execute_result"
    }
   ],
   "source": [
    "#Format Team data in standings dataframe to match Tm in players dataframe\n",
    "\n",
    "y82_standings.Team.replace(acronyms, regex = True, inplace = True)\n",
    "\n",
    "#Check that all Team names have been updated\n",
    "y82_standings.Team.unique()"
   ]
  },
  {
   "cell_type": "code",
   "execution_count": 9,
   "metadata": {},
   "outputs": [
    {
     "data": {
      "text/html": [
       "<div>\n",
       "<style scoped>\n",
       "    .dataframe tbody tr th:only-of-type {\n",
       "        vertical-align: middle;\n",
       "    }\n",
       "\n",
       "    .dataframe tbody tr th {\n",
       "        vertical-align: top;\n",
       "    }\n",
       "\n",
       "    .dataframe thead th {\n",
       "        text-align: right;\n",
       "    }\n",
       "</style>\n",
       "<table border=\"1\" class=\"dataframe\">\n",
       "  <thead>\n",
       "    <tr style=\"text-align: right;\">\n",
       "      <th></th>\n",
       "      <th>Year</th>\n",
       "      <th>Player</th>\n",
       "      <th>Pos</th>\n",
       "      <th>Tm</th>\n",
       "      <th>G</th>\n",
       "      <th>GS</th>\n",
       "      <th>MP</th>\n",
       "      <th>OBPM</th>\n",
       "      <th>DBPM</th>\n",
       "      <th>OWS</th>\n",
       "      <th>DWS</th>\n",
       "    </tr>\n",
       "  </thead>\n",
       "  <tbody>\n",
       "    <tr>\n",
       "      <td>24686</td>\n",
       "      <td>2017.0</td>\n",
       "      <td>Cody Zeller</td>\n",
       "      <td>PF</td>\n",
       "      <td>CHO</td>\n",
       "      <td>62.0</td>\n",
       "      <td>58.0</td>\n",
       "      <td>1725.0</td>\n",
       "      <td>-0.2</td>\n",
       "      <td>2.3</td>\n",
       "      <td>3.4</td>\n",
       "      <td>2.2</td>\n",
       "    </tr>\n",
       "    <tr>\n",
       "      <td>24687</td>\n",
       "      <td>2017.0</td>\n",
       "      <td>Tyler Zeller</td>\n",
       "      <td>C</td>\n",
       "      <td>BOS</td>\n",
       "      <td>51.0</td>\n",
       "      <td>5.0</td>\n",
       "      <td>525.0</td>\n",
       "      <td>-3.2</td>\n",
       "      <td>0.8</td>\n",
       "      <td>0.5</td>\n",
       "      <td>0.6</td>\n",
       "    </tr>\n",
       "    <tr>\n",
       "      <td>24688</td>\n",
       "      <td>2017.0</td>\n",
       "      <td>Stephen Zimmerman</td>\n",
       "      <td>C</td>\n",
       "      <td>ORL</td>\n",
       "      <td>19.0</td>\n",
       "      <td>0.0</td>\n",
       "      <td>108.0</td>\n",
       "      <td>-7.8</td>\n",
       "      <td>0.4</td>\n",
       "      <td>-0.1</td>\n",
       "      <td>0.1</td>\n",
       "    </tr>\n",
       "    <tr>\n",
       "      <td>24689</td>\n",
       "      <td>2017.0</td>\n",
       "      <td>Paul Zipser</td>\n",
       "      <td>SF</td>\n",
       "      <td>CHI</td>\n",
       "      <td>44.0</td>\n",
       "      <td>18.0</td>\n",
       "      <td>843.0</td>\n",
       "      <td>-3.6</td>\n",
       "      <td>-0.1</td>\n",
       "      <td>-0.3</td>\n",
       "      <td>0.8</td>\n",
       "    </tr>\n",
       "    <tr>\n",
       "      <td>24690</td>\n",
       "      <td>2017.0</td>\n",
       "      <td>Ivica Zubac</td>\n",
       "      <td>C</td>\n",
       "      <td>LAL</td>\n",
       "      <td>38.0</td>\n",
       "      <td>11.0</td>\n",
       "      <td>609.0</td>\n",
       "      <td>-2.7</td>\n",
       "      <td>0.3</td>\n",
       "      <td>0.6</td>\n",
       "      <td>0.5</td>\n",
       "    </tr>\n",
       "  </tbody>\n",
       "</table>\n",
       "</div>"
      ],
      "text/plain": [
       "         Year             Player Pos   Tm     G    GS      MP  OBPM  DBPM  \\\n",
       "24686  2017.0        Cody Zeller  PF  CHO  62.0  58.0  1725.0  -0.2   2.3   \n",
       "24687  2017.0       Tyler Zeller   C  BOS  51.0   5.0   525.0  -3.2   0.8   \n",
       "24688  2017.0  Stephen Zimmerman   C  ORL  19.0   0.0   108.0  -7.8   0.4   \n",
       "24689  2017.0        Paul Zipser  SF  CHI  44.0  18.0   843.0  -3.6  -0.1   \n",
       "24690  2017.0        Ivica Zubac   C  LAL  38.0  11.0   609.0  -2.7   0.3   \n",
       "\n",
       "       OWS  DWS  \n",
       "24686  3.4  2.2  \n",
       "24687  0.5  0.6  \n",
       "24688 -0.1  0.1  \n",
       "24689 -0.3  0.8  \n",
       "24690  0.6  0.5  "
      ]
     },
     "execution_count": 9,
     "metadata": {},
     "output_type": "execute_result"
    }
   ],
   "source": [
    "#Select only relevant columns from players dataframe\n",
    "\n",
    "y82_player_stats = y82_players[['Year', 'Player', 'Pos', 'Tm', 'G', 'GS', 'MP', 'OBPM', 'DBPM', 'OWS', 'DWS']].copy()\n",
    "y82_player_stats.tail()"
   ]
  },
  {
   "cell_type": "code",
   "execution_count": 10,
   "metadata": {},
   "outputs": [
    {
     "data": {
      "text/plain": [
       "array(['LAL', 'PHO', 'DAL', 'BOS', 'DEN', 'TOT', 'PHI', 'UTA', 'LAC',\n",
       "       'CLE', 'BRK', 'HOU', 'WAS', 'SAS', 'DET', 'CHI', 'IND', 'GSW',\n",
       "       'MIL', 'OKC', 'ATL', 'POR', 'NYK', 'SAC', 'CHA', 'MIA', 'ORL',\n",
       "       'MIN', 'MEM', 'TOR', 'NOP'], dtype=object)"
      ]
     },
     "execution_count": 10,
     "metadata": {},
     "output_type": "execute_result"
    }
   ],
   "source": [
    "#Correct Tm data in players dataframe to combine acronym changes due to team moves (e.g. New Jersey Nets -> Brooklyn Nets)\n",
    "\n",
    "y82_player_stats.Tm.replace({'NOH': 'NOP', 'CHO': 'CHA', 'SDC': 'LAC', 'NJN': 'BRK',\n",
    "                            'WSB': 'WAS', 'SEA': 'OKC', 'KCK': 'SAC', 'VAN': 'MEM',\n",
    "                             'NOK': 'NOP', 'CHH': 'CHA'}, inplace=True)\n",
    "\n",
    "#Check that all team names have been properly updated\n",
    "y82_player_stats.Tm.unique()"
   ]
  },
  {
   "cell_type": "code",
   "execution_count": 11,
   "metadata": {},
   "outputs": [],
   "source": [
    "#1999 season shortened to 50 games due to lockout; recalculate G and GS as corresponding total for an 82 game season\n",
    "#2012 season shortened to 66 games due to lockout; recalculate G and GS as corresponding total for an 82 game season\n",
    "\n",
    "y82_player_stats.loc[(y82_player_stats.Year == 1999), 'G'] = y82_player_stats[(y82_player_stats.Year == 1999)]['G']*82/50\n",
    "y82_player_stats.loc[(y82_player_stats.Year == 1999), 'GS'] = y82_player_stats[(y82_player_stats.Year == 1999)]['GS']*82/50\n",
    "\n",
    "\n",
    "y82_player_stats.loc[(y82_player_stats.Year == 2012), 'G'] = y82_player_stats[(y82_player_stats.Year == 2012)]['G']*82/66\n",
    "y82_player_stats.loc[(y82_player_stats.Year == 2012), 'GS'] = y82_player_stats[(y82_player_stats.Year == 2012)]['GS']*82/66"
   ]
  },
  {
   "cell_type": "code",
   "execution_count": 12,
   "metadata": {},
   "outputs": [
    {
     "data": {
      "text/html": [
       "<div>\n",
       "<style scoped>\n",
       "    .dataframe tbody tr th:only-of-type {\n",
       "        vertical-align: middle;\n",
       "    }\n",
       "\n",
       "    .dataframe tbody tr th {\n",
       "        vertical-align: top;\n",
       "    }\n",
       "\n",
       "    .dataframe thead th {\n",
       "        text-align: right;\n",
       "    }\n",
       "</style>\n",
       "<table border=\"1\" class=\"dataframe\">\n",
       "  <thead>\n",
       "    <tr style=\"text-align: right;\">\n",
       "      <th></th>\n",
       "      <th>Year</th>\n",
       "      <th>Player</th>\n",
       "      <th>Pos</th>\n",
       "      <th>Tm</th>\n",
       "      <th>G</th>\n",
       "      <th>GS</th>\n",
       "      <th>MP</th>\n",
       "      <th>OBPM</th>\n",
       "      <th>DBPM</th>\n",
       "      <th>OWS</th>\n",
       "      <th>DWS</th>\n",
       "      <th>%GS</th>\n",
       "      <th>Role</th>\n",
       "    </tr>\n",
       "  </thead>\n",
       "  <tbody>\n",
       "    <tr>\n",
       "      <td>6823</td>\n",
       "      <td>1983.0</td>\n",
       "      <td>Kareem Abdul-Jabbar*</td>\n",
       "      <td>C</td>\n",
       "      <td>LAL</td>\n",
       "      <td>79.0</td>\n",
       "      <td>79.0</td>\n",
       "      <td>2554.0</td>\n",
       "      <td>3.6</td>\n",
       "      <td>0.3</td>\n",
       "      <td>8.0</td>\n",
       "      <td>2.9</td>\n",
       "      <td>1.000000</td>\n",
       "      <td>2</td>\n",
       "    </tr>\n",
       "    <tr>\n",
       "      <td>6824</td>\n",
       "      <td>1983.0</td>\n",
       "      <td>Alvan Adams</td>\n",
       "      <td>C</td>\n",
       "      <td>PHO</td>\n",
       "      <td>80.0</td>\n",
       "      <td>75.0</td>\n",
       "      <td>2447.0</td>\n",
       "      <td>0.6</td>\n",
       "      <td>2.7</td>\n",
       "      <td>2.0</td>\n",
       "      <td>4.5</td>\n",
       "      <td>0.937500</td>\n",
       "      <td>2</td>\n",
       "    </tr>\n",
       "    <tr>\n",
       "      <td>6825</td>\n",
       "      <td>1983.0</td>\n",
       "      <td>Mark Aguirre</td>\n",
       "      <td>SF</td>\n",
       "      <td>DAL</td>\n",
       "      <td>81.0</td>\n",
       "      <td>75.0</td>\n",
       "      <td>2784.0</td>\n",
       "      <td>3.6</td>\n",
       "      <td>-2.0</td>\n",
       "      <td>5.9</td>\n",
       "      <td>1.0</td>\n",
       "      <td>0.925926</td>\n",
       "      <td>2</td>\n",
       "    </tr>\n",
       "    <tr>\n",
       "      <td>6826</td>\n",
       "      <td>1983.0</td>\n",
       "      <td>Danny Ainge</td>\n",
       "      <td>SG</td>\n",
       "      <td>BOS</td>\n",
       "      <td>80.0</td>\n",
       "      <td>76.0</td>\n",
       "      <td>2048.0</td>\n",
       "      <td>0.8</td>\n",
       "      <td>0.4</td>\n",
       "      <td>2.8</td>\n",
       "      <td>2.4</td>\n",
       "      <td>0.950000</td>\n",
       "      <td>2</td>\n",
       "    </tr>\n",
       "    <tr>\n",
       "      <td>6827</td>\n",
       "      <td>1983.0</td>\n",
       "      <td>Dwight Anderson</td>\n",
       "      <td>PG</td>\n",
       "      <td>DEN</td>\n",
       "      <td>5.0</td>\n",
       "      <td>0.0</td>\n",
       "      <td>33.0</td>\n",
       "      <td>-3.9</td>\n",
       "      <td>-5.1</td>\n",
       "      <td>0.0</td>\n",
       "      <td>0.0</td>\n",
       "      <td>0.000000</td>\n",
       "      <td>0</td>\n",
       "    </tr>\n",
       "  </tbody>\n",
       "</table>\n",
       "</div>"
      ],
      "text/plain": [
       "        Year                Player Pos   Tm     G    GS      MP  OBPM  DBPM  \\\n",
       "6823  1983.0  Kareem Abdul-Jabbar*   C  LAL  79.0  79.0  2554.0   3.6   0.3   \n",
       "6824  1983.0           Alvan Adams   C  PHO  80.0  75.0  2447.0   0.6   2.7   \n",
       "6825  1983.0          Mark Aguirre  SF  DAL  81.0  75.0  2784.0   3.6  -2.0   \n",
       "6826  1983.0           Danny Ainge  SG  BOS  80.0  76.0  2048.0   0.8   0.4   \n",
       "6827  1983.0       Dwight Anderson  PG  DEN   5.0   0.0    33.0  -3.9  -5.1   \n",
       "\n",
       "      OWS  DWS       %GS  Role  \n",
       "6823  8.0  2.9  1.000000     2  \n",
       "6824  2.0  4.5  0.937500     2  \n",
       "6825  5.9  1.0  0.925926     2  \n",
       "6826  2.8  2.4  0.950000     2  \n",
       "6827  0.0  0.0  0.000000     0  "
      ]
     },
     "execution_count": 12,
     "metadata": {},
     "output_type": "execute_result"
    }
   ],
   "source": [
    "#Create %GS (percent of games started) category\n",
    "#Create role category, 2 = starter (starts more than 50% of games played), 1 = key reserve (not starter, \n",
    "#plays at least 35% of games in the season, or 29 games in an 82 game season), 0 = bench player\n",
    "\n",
    "y82_player_stats['%GS'] = y82_player_stats.GS/y82_player_stats.G\n",
    "y82_player_stats['Role'] = 0\n",
    "\n",
    "y82_player_stats.loc[y82_player_stats['G'] > 29, 'Role'] = 1\n",
    "y82_player_stats.loc[y82_player_stats['%GS'] > 0.5, 'Role'] = 2\n",
    "\n",
    "y82_player_stats.head()"
   ]
  },
  {
   "cell_type": "markdown",
   "metadata": {},
   "source": [
    "# **Hypothesis 1**"
   ]
  },
  {
   "cell_type": "code",
   "execution_count": 36,
   "metadata": {},
   "outputs": [
    {
     "data": {
      "text/plain": [
       "Ttest_indResult(statistic=54.42037849881375, pvalue=0.0)"
      ]
     },
     "execution_count": 36,
     "metadata": {},
     "output_type": "execute_result"
    }
   ],
   "source": [
    "#Perform t-test for OBPM\n",
    "\n",
    "stats.ttest_ind(y82_player_stats[(y82_player_stats.Role == 2)].OBPM, y82_player_stats[(y82_player_stats.Role == 1)].OBPM)"
   ]
  },
  {
   "cell_type": "code",
   "execution_count": 37,
   "metadata": {},
   "outputs": [
    {
     "data": {
      "text/plain": [
       "Ttest_indResult(statistic=22.642248202410805, pvalue=2.0694042031426637e-111)"
      ]
     },
     "execution_count": 37,
     "metadata": {},
     "output_type": "execute_result"
    }
   ],
   "source": [
    "#Perform t-test for DBPM\n",
    "\n",
    "stats.ttest_ind(y82_player_stats[(y82_player_stats.Role == 2)].DBPM, y82_player_stats[(y82_player_stats.Role == 1)].DBPM)"
   ]
  },
  {
   "cell_type": "code",
   "execution_count": 38,
   "metadata": {},
   "outputs": [
    {
     "data": {
      "text/plain": [
       "Ttest_indResult(statistic=58.75155994809166, pvalue=0.0)"
      ]
     },
     "execution_count": 38,
     "metadata": {},
     "output_type": "execute_result"
    }
   ],
   "source": [
    "#Perform t-test for OWS\n",
    "\n",
    "stats.ttest_ind(y82_player_stats[(y82_player_stats.Role == 2)].OWS, y82_player_stats[(y82_player_stats.Role == 1)].OWS)"
   ]
  },
  {
   "cell_type": "code",
   "execution_count": 39,
   "metadata": {},
   "outputs": [
    {
     "data": {
      "text/plain": [
       "Ttest_indResult(statistic=59.516326963536, pvalue=0.0)"
      ]
     },
     "execution_count": 39,
     "metadata": {},
     "output_type": "execute_result"
    }
   ],
   "source": [
    "#Perform t-test for DWS\n",
    "\n",
    "stats.ttest_ind(y82_player_stats[(y82_player_stats.Role == 2)].DWS, y82_player_stats[(y82_player_stats.Role == 1)].DWS)"
   ]
  },
  {
   "cell_type": "code",
   "execution_count": 46,
   "metadata": {},
   "outputs": [
    {
     "name": "stdout",
     "output_type": "stream",
     "text": [
      "2.074373935153738 2.231292043046441\n"
     ]
    }
   ],
   "source": [
    "#Calculate confidence interval for OBPM\n",
    "\n",
    "n1_OBPM_1 = y82_player_stats[(y82_player_stats.Role == 2)].OBPM.shape[0]\n",
    "avg1_OBPM_1 = y82_player_stats[(y82_player_stats.Role == 2)].OBPM.mean()\n",
    "std1_OBPM_1 = y82_player_stats[(y82_player_stats.Role == 2)].OBPM.var()\n",
    "\n",
    "n2_OBPM_1 = y82_player_stats[(y82_player_stats.Role == 1)].OBPM.shape[0]\n",
    "avg2_OBPM_1 = y82_player_stats[(y82_player_stats.Role == 1)].OBPM.mean()\n",
    "std2_OBPM_1 = y82_player_stats[(y82_player_stats.Role == 1)].OBPM.var()\n",
    "\n",
    "upper_OBPM_1 = (avg1_OBPM_1 - avg2_OBPM_1) + 1.96*math.sqrt(std1_OBPM_1/n1_OBPM_1 + std2_OBPM_1/n2_OBPM_1)\n",
    "lower_OBPM_1 = (avg1_OBPM_1 - avg2_OBPM_1) - 1.96*math.sqrt(std1_OBPM_1/n1_OBPM_1 + std2_OBPM_1/n2_OBPM_1)\n",
    "\n",
    "print(lower_OBPM_1, upper_OBPM_1)"
   ]
  },
  {
   "cell_type": "code",
   "execution_count": 102,
   "metadata": {},
   "outputs": [
    {
     "data": {
      "text/plain": [
       "<matplotlib.axes._subplots.AxesSubplot at 0x29275669c88>"
      ]
     },
     "execution_count": 102,
     "metadata": {},
     "output_type": "execute_result"
    },
    {
     "data": {
      "image/png": "[encoded data removed]",
      "text/plain": [
       "<Figure size 720x432 with 1 Axes>"
      ]
     },
     "metadata": {
      "needs_background": "light"
     },
     "output_type": "display_data"
    }
   ],
   "source": [
    "y82_player_stats[(y82_player_stats.Role != 0)].boxplot('OBPM', by='Role', figsize=(10, 6))"
   ]
  },
  {
   "cell_type": "code",
   "execution_count": 48,
   "metadata": {},
   "outputs": [
    {
     "name": "stdout",
     "output_type": "stream",
     "text": [
      "0.6045395229623934 0.7196525953935095\n"
     ]
    }
   ],
   "source": [
    "#Calculate confidence interval for DBPM\n",
    "\n",
    "n1_DBPM_1 = y82_player_stats[(y82_player_stats.Role == 2)].DBPM.shape[0]\n",
    "avg1_DBPM_1 = y82_player_stats[(y82_player_stats.Role == 2)].DBPM.mean()\n",
    "std1_DBPM_1 = y82_player_stats[(y82_player_stats.Role == 2)].DBPM.var()\n",
    "\n",
    "n2_DBPM_1 = y82_player_stats[(y82_player_stats.Role == 1)].DBPM.shape[0]\n",
    "avg2_DBPM_1 = y82_player_stats[(y82_player_stats.Role == 1)].DBPM.mean()\n",
    "std2_DBPM_1 = y82_player_stats[(y82_player_stats.Role == 1)].DBPM.var()\n",
    "\n",
    "upper_DBPM_1 = (avg1_DBPM_1 - avg2_DBPM_1) + 1.96*math.sqrt(std1_DBPM_1/n1_DBPM_1 + std2_DBPM_1/n2_DBPM_1)\n",
    "lower_DBPM_1 = (avg1_DBPM_1 - avg2_DBPM_1) - 1.96*math.sqrt(std1_DBPM_1/n1_DBPM_1 + std2_DBPM_1/n2_DBPM_1)\n",
    "\n",
    "print(lower_DBPM_1, upper_DBPM_1)"
   ]
  },
  {
   "cell_type": "code",
   "execution_count": 103,
   "metadata": {},
   "outputs": [
    {
     "data": {
      "text/plain": [
       "<matplotlib.axes._subplots.AxesSubplot at 0x29275563308>"
      ]
     },
     "execution_count": 103,
     "metadata": {},
     "output_type": "execute_result"
    },
    {
     "data": {
      "image/png": "[encoded data removed]",
      "text/plain": [
       "<Figure size 720x432 with 1 Axes>"
      ]
     },
     "metadata": {
      "needs_background": "light"
     },
     "output_type": "display_data"
    }
   ],
   "source": [
    "y82_player_stats[(y82_player_stats.Role != 0)].boxplot('DBPM', by='Role', figsize=(10, 6))"
   ]
  },
  {
   "cell_type": "code",
   "execution_count": 47,
   "metadata": {},
   "outputs": [
    {
     "name": "stdout",
     "output_type": "stream",
     "text": [
      "1.917342383571724 2.0568446572683334\n"
     ]
    }
   ],
   "source": [
    "#Calculate confidence interval for OWS\n",
    "\n",
    "n1_OWS_1 = y82_player_stats[(y82_player_stats.Role == 2)].OWS.shape[0]\n",
    "avg1_OWS_1 = y82_player_stats[(y82_player_stats.Role == 2)].OWS.mean()\n",
    "std1_OWS_1 = y82_player_stats[(y82_player_stats.Role == 2)].OWS.var()\n",
    "\n",
    "n2_OWS_1 = y82_player_stats[(y82_player_stats.Role == 1)].OWS.shape[0]\n",
    "avg2_OWS_1 = y82_player_stats[(y82_player_stats.Role == 1)].OWS.mean()\n",
    "std2_OWS_1 = y82_player_stats[(y82_player_stats.Role == 1)].OWS.var()\n",
    "\n",
    "upper_OWS_1 = (avg1_OWS_1 - avg2_OWS_1) + 1.96*math.sqrt(std1_OWS_1/n1_OWS_1 + std2_OWS_1/n2_OWS_1)\n",
    "lower_OWS_1 = (avg1_OWS_1 - avg2_OWS_1) - 1.96*math.sqrt(std1_OWS_1/n1_OWS_1 + std2_OWS_1/n2_OWS_1)\n",
    "\n",
    "print(lower_OWS_1, upper_OWS_1)"
   ]
  },
  {
   "cell_type": "code",
   "execution_count": 104,
   "metadata": {},
   "outputs": [
    {
     "data": {
      "text/plain": [
       "<matplotlib.axes._subplots.AxesSubplot at 0x292755f2bc8>"
      ]
     },
     "execution_count": 104,
     "metadata": {},
     "output_type": "execute_result"
    },
    {
     "data": {
      "image/png": "[encoded data removed]",
      "text/plain": [
       "<Figure size 720x432 with 1 Axes>"
      ]
     },
     "metadata": {
      "needs_background": "light"
     },
     "output_type": "display_data"
    }
   ],
   "source": [
    "y82_player_stats[(y82_player_stats.Role != 0)].boxplot('OWS', by='Role', figsize=(10, 6))"
   ]
  },
  {
   "cell_type": "code",
   "execution_count": 45,
   "metadata": {},
   "outputs": [
    {
     "name": "stdout",
     "output_type": "stream",
     "text": [
      "1.0727300036907017 1.1491289508840967\n"
     ]
    }
   ],
   "source": [
    "#Calculate confidence interval for DWS\n",
    "\n",
    "n1_DWS_1 = y82_player_stats[(y82_player_stats.Role == 2)].DWS.shape[0]\n",
    "avg1_DWS_1 = y82_player_stats[(y82_player_stats.Role == 2)].DWS.mean()\n",
    "std1_DWS_1 = y82_player_stats[(y82_player_stats.Role == 2)].DWS.var()\n",
    "\n",
    "n2_DWS_1 = y82_player_stats[(y82_player_stats.Role == 1)].DWS.shape[0]\n",
    "avg2_DWS_1 = y82_player_stats[(y82_player_stats.Role == 1)].DWS.mean()\n",
    "std2_DWS_1 = y82_player_stats[(y82_player_stats.Role == 1)].DWS.var()\n",
    "\n",
    "upper_DWS_1 = (avg1_DWS_1 - avg2_DWS_1) + 1.96*math.sqrt(std1_DWS_1/n1_DWS_1 + std2_DWS_1/n2_DWS_1)\n",
    "lower_DWS_1 = (avg1_DWS_1 - avg2_DWS_1) - 1.96*math.sqrt(std1_DWS_1/n1_DWS_1 + std2_DWS_1/n2_DWS_1)\n",
    "\n",
    "print(lower_DWS_1, upper_DWS_1)"
   ]
  },
  {
   "cell_type": "code",
   "execution_count": 105,
   "metadata": {},
   "outputs": [
    {
     "data": {
      "text/plain": [
       "<matplotlib.axes._subplots.AxesSubplot at 0x29270892608>"
      ]
     },
     "execution_count": 105,
     "metadata": {},
     "output_type": "execute_result"
    },
    {
     "data": {
      "image/png": "[encoded data removed]",
      "text/plain": [
       "<Figure size 720x432 with 1 Axes>"
      ]
     },
     "metadata": {
      "needs_background": "light"
     },
     "output_type": "display_data"
    }
   ],
   "source": [
    "y82_player_stats[(y82_player_stats.Role != 0)].boxplot('DWS', by='Role', figsize=(10, 6))"
   ]
  },
  {
   "cell_type": "markdown",
   "metadata": {},
   "source": [
    "## **Hypothesis 1 Results**\n",
    "\n",
    "There is a statistically significant difference between the differences in OBPM, DBPM, OWS, and DWS between starters and reserves. We reject the null hypothesis with p-values of <0.001 for all 4 statistical categories. Starters had a higher score for all 4 statistical categories, with larger differences in the offensive statistics than defensive statistics. We can therefore conclude that starters are significantly better than reserves on both offense and defense. The differences between starters and reserves for all 4 statistical categories is therefore worth examining further in hypotheses 2 and 3."
   ]
  },
  {
   "cell_type": "markdown",
   "metadata": {},
   "source": [
    "# **Hypothesis 2**"
   ]
  },
  {
   "cell_type": "code",
   "execution_count": 13,
   "metadata": {
    "scrolled": true
   },
   "outputs": [
    {
     "data": {
      "text/html": [
       "<div>\n",
       "<style scoped>\n",
       "    .dataframe tbody tr th:only-of-type {\n",
       "        vertical-align: middle;\n",
       "    }\n",
       "\n",
       "    .dataframe tbody tr th {\n",
       "        vertical-align: top;\n",
       "    }\n",
       "\n",
       "    .dataframe thead th {\n",
       "        text-align: right;\n",
       "    }\n",
       "</style>\n",
       "<table border=\"1\" class=\"dataframe\">\n",
       "  <thead>\n",
       "    <tr style=\"text-align: right;\">\n",
       "      <th></th>\n",
       "      <th>Year</th>\n",
       "      <th>Player</th>\n",
       "      <th>Pos</th>\n",
       "      <th>Tm</th>\n",
       "      <th>G</th>\n",
       "      <th>GS</th>\n",
       "      <th>MP</th>\n",
       "      <th>OBPM</th>\n",
       "      <th>DBPM</th>\n",
       "      <th>OWS</th>\n",
       "      <th>DWS</th>\n",
       "      <th>%GS</th>\n",
       "      <th>Role</th>\n",
       "    </tr>\n",
       "  </thead>\n",
       "  <tbody>\n",
       "    <tr>\n",
       "      <td>6823</td>\n",
       "      <td>1983</td>\n",
       "      <td>Kareem Abdul-Jabbar*</td>\n",
       "      <td>C</td>\n",
       "      <td>LAL</td>\n",
       "      <td>79.0</td>\n",
       "      <td>79.0</td>\n",
       "      <td>2554.0</td>\n",
       "      <td>3.6</td>\n",
       "      <td>0.3</td>\n",
       "      <td>8.0</td>\n",
       "      <td>2.9</td>\n",
       "      <td>1.000000</td>\n",
       "      <td>2</td>\n",
       "    </tr>\n",
       "    <tr>\n",
       "      <td>6824</td>\n",
       "      <td>1983</td>\n",
       "      <td>Alvan Adams</td>\n",
       "      <td>C</td>\n",
       "      <td>PHO</td>\n",
       "      <td>80.0</td>\n",
       "      <td>75.0</td>\n",
       "      <td>2447.0</td>\n",
       "      <td>0.6</td>\n",
       "      <td>2.7</td>\n",
       "      <td>2.0</td>\n",
       "      <td>4.5</td>\n",
       "      <td>0.937500</td>\n",
       "      <td>2</td>\n",
       "    </tr>\n",
       "    <tr>\n",
       "      <td>6825</td>\n",
       "      <td>1983</td>\n",
       "      <td>Mark Aguirre</td>\n",
       "      <td>SF</td>\n",
       "      <td>DAL</td>\n",
       "      <td>81.0</td>\n",
       "      <td>75.0</td>\n",
       "      <td>2784.0</td>\n",
       "      <td>3.6</td>\n",
       "      <td>-2.0</td>\n",
       "      <td>5.9</td>\n",
       "      <td>1.0</td>\n",
       "      <td>0.925926</td>\n",
       "      <td>2</td>\n",
       "    </tr>\n",
       "    <tr>\n",
       "      <td>6826</td>\n",
       "      <td>1983</td>\n",
       "      <td>Danny Ainge</td>\n",
       "      <td>SG</td>\n",
       "      <td>BOS</td>\n",
       "      <td>80.0</td>\n",
       "      <td>76.0</td>\n",
       "      <td>2048.0</td>\n",
       "      <td>0.8</td>\n",
       "      <td>0.4</td>\n",
       "      <td>2.8</td>\n",
       "      <td>2.4</td>\n",
       "      <td>0.950000</td>\n",
       "      <td>2</td>\n",
       "    </tr>\n",
       "    <tr>\n",
       "      <td>6827</td>\n",
       "      <td>1983</td>\n",
       "      <td>Dwight Anderson</td>\n",
       "      <td>PG</td>\n",
       "      <td>DEN</td>\n",
       "      <td>5.0</td>\n",
       "      <td>0.0</td>\n",
       "      <td>33.0</td>\n",
       "      <td>-3.9</td>\n",
       "      <td>-5.1</td>\n",
       "      <td>0.0</td>\n",
       "      <td>0.0</td>\n",
       "      <td>0.000000</td>\n",
       "      <td>0</td>\n",
       "    </tr>\n",
       "  </tbody>\n",
       "</table>\n",
       "</div>"
      ],
      "text/plain": [
       "      Year                Player Pos   Tm     G    GS      MP  OBPM  DBPM  \\\n",
       "6823  1983  Kareem Abdul-Jabbar*   C  LAL  79.0  79.0  2554.0   3.6   0.3   \n",
       "6824  1983           Alvan Adams   C  PHO  80.0  75.0  2447.0   0.6   2.7   \n",
       "6825  1983          Mark Aguirre  SF  DAL  81.0  75.0  2784.0   3.6  -2.0   \n",
       "6826  1983           Danny Ainge  SG  BOS  80.0  76.0  2048.0   0.8   0.4   \n",
       "6827  1983       Dwight Anderson  PG  DEN   5.0   0.0    33.0  -3.9  -5.1   \n",
       "\n",
       "      OWS  DWS       %GS  Role  \n",
       "6823  8.0  2.9  1.000000     2  \n",
       "6824  2.0  4.5  0.937500     2  \n",
       "6825  5.9  1.0  0.925926     2  \n",
       "6826  2.8  2.4  0.950000     2  \n",
       "6827  0.0  0.0  0.000000     0  "
      ]
     },
     "execution_count": 13,
     "metadata": {},
     "output_type": "execute_result"
    }
   ],
   "source": [
    "#Format Year data in players dataframe to match standings dataframe\n",
    "\n",
    "y82_player_stats.Year = y82_player_stats.Year.astype(int)\n",
    "y82_player_stats.head()"
   ]
  },
  {
   "cell_type": "code",
   "execution_count": 14,
   "metadata": {},
   "outputs": [
    {
     "data": {
      "text/html": [
       "<div>\n",
       "<style scoped>\n",
       "    .dataframe tbody tr th:only-of-type {\n",
       "        vertical-align: middle;\n",
       "    }\n",
       "\n",
       "    .dataframe tbody tr th {\n",
       "        vertical-align: top;\n",
       "    }\n",
       "\n",
       "    .dataframe thead th {\n",
       "        text-align: right;\n",
       "    }\n",
       "</style>\n",
       "<table border=\"1\" class=\"dataframe\">\n",
       "  <thead>\n",
       "    <tr style=\"text-align: right;\">\n",
       "      <th></th>\n",
       "      <th>Year</th>\n",
       "      <th>Lg</th>\n",
       "      <th>Tm</th>\n",
       "      <th>W</th>\n",
       "      <th>L</th>\n",
       "      <th>W/L%</th>\n",
       "      <th>Finish</th>\n",
       "      <th>SRS</th>\n",
       "      <th>Pace</th>\n",
       "      <th>Rel_Pace</th>\n",
       "      <th>ORtg</th>\n",
       "      <th>Rel_ORtg</th>\n",
       "      <th>DRtg</th>\n",
       "      <th>Rel_DRtg</th>\n",
       "      <th>Playoffs</th>\n",
       "      <th>Coaches</th>\n",
       "      <th>Top WS</th>\n",
       "    </tr>\n",
       "  </thead>\n",
       "  <tbody>\n",
       "    <tr>\n",
       "      <td>1</td>\n",
       "      <td>2017</td>\n",
       "      <td>NBA</td>\n",
       "      <td>BOS</td>\n",
       "      <td>53</td>\n",
       "      <td>29</td>\n",
       "      <td>0.646</td>\n",
       "      <td>1</td>\n",
       "      <td>2.25</td>\n",
       "      <td>96.8</td>\n",
       "      <td>0.4</td>\n",
       "      <td>111.2</td>\n",
       "      <td>2.4</td>\n",
       "      <td>108.4</td>\n",
       "      <td>-0.4</td>\n",
       "      <td>Lost E. Conf. Finals</td>\n",
       "      <td>B. Stevens (53-29)</td>\n",
       "      <td>I. Thomas (12.5)</td>\n",
       "    </tr>\n",
       "    <tr>\n",
       "      <td>2</td>\n",
       "      <td>2016</td>\n",
       "      <td>NBA</td>\n",
       "      <td>BOS</td>\n",
       "      <td>48</td>\n",
       "      <td>34</td>\n",
       "      <td>0.585</td>\n",
       "      <td>2</td>\n",
       "      <td>2.84</td>\n",
       "      <td>98.5</td>\n",
       "      <td>2.7</td>\n",
       "      <td>106.8</td>\n",
       "      <td>0.4</td>\n",
       "      <td>103.6</td>\n",
       "      <td>-2.8</td>\n",
       "      <td>Lost E. Conf. 1st Rnd.</td>\n",
       "      <td>B. Stevens (48-34)</td>\n",
       "      <td>I. Thomas (9.7)</td>\n",
       "    </tr>\n",
       "    <tr>\n",
       "      <td>3</td>\n",
       "      <td>2015</td>\n",
       "      <td>NBA</td>\n",
       "      <td>BOS</td>\n",
       "      <td>40</td>\n",
       "      <td>42</td>\n",
       "      <td>0.488</td>\n",
       "      <td>2</td>\n",
       "      <td>-0.40</td>\n",
       "      <td>95.8</td>\n",
       "      <td>1.9</td>\n",
       "      <td>104.7</td>\n",
       "      <td>-0.9</td>\n",
       "      <td>104.5</td>\n",
       "      <td>-1.1</td>\n",
       "      <td>Lost E. Conf. 1st Rnd.</td>\n",
       "      <td>B. Stevens (40-42)</td>\n",
       "      <td>T. Zeller (6.5)</td>\n",
       "    </tr>\n",
       "    <tr>\n",
       "      <td>4</td>\n",
       "      <td>2014</td>\n",
       "      <td>NBA</td>\n",
       "      <td>BOS</td>\n",
       "      <td>25</td>\n",
       "      <td>57</td>\n",
       "      <td>0.305</td>\n",
       "      <td>4</td>\n",
       "      <td>-4.97</td>\n",
       "      <td>93.3</td>\n",
       "      <td>-0.6</td>\n",
       "      <td>102.9</td>\n",
       "      <td>-3.8</td>\n",
       "      <td>107.7</td>\n",
       "      <td>1.0</td>\n",
       "      <td>NaN</td>\n",
       "      <td>B. Stevens (25-57)</td>\n",
       "      <td>B. Bass (5.1)</td>\n",
       "    </tr>\n",
       "    <tr>\n",
       "      <td>5</td>\n",
       "      <td>2013</td>\n",
       "      <td>NBA</td>\n",
       "      <td>BOS</td>\n",
       "      <td>41</td>\n",
       "      <td>40</td>\n",
       "      <td>0.506</td>\n",
       "      <td>3</td>\n",
       "      <td>-0.62</td>\n",
       "      <td>91.7</td>\n",
       "      <td>-0.3</td>\n",
       "      <td>103.1</td>\n",
       "      <td>-2.8</td>\n",
       "      <td>103.3</td>\n",
       "      <td>-2.6</td>\n",
       "      <td>Lost E. Conf. 1st Rnd.</td>\n",
       "      <td>D. Rivers (41-40)</td>\n",
       "      <td>P. Pierce (7.2)</td>\n",
       "    </tr>\n",
       "  </tbody>\n",
       "</table>\n",
       "</div>"
      ],
      "text/plain": [
       "   Year   Lg   Tm   W   L   W/L%  Finish   SRS  Pace  Rel_Pace   ORtg  \\\n",
       "1  2017  NBA  BOS  53  29  0.646       1  2.25  96.8       0.4  111.2   \n",
       "2  2016  NBA  BOS  48  34  0.585       2  2.84  98.5       2.7  106.8   \n",
       "3  2015  NBA  BOS  40  42  0.488       2 -0.40  95.8       1.9  104.7   \n",
       "4  2014  NBA  BOS  25  57  0.305       4 -4.97  93.3      -0.6  102.9   \n",
       "5  2013  NBA  BOS  41  40  0.506       3 -0.62  91.7      -0.3  103.1   \n",
       "\n",
       "   Rel_ORtg   DRtg  Rel_DRtg                Playoffs             Coaches  \\\n",
       "1       2.4  108.4      -0.4    Lost E. Conf. Finals  B. Stevens (53-29)   \n",
       "2       0.4  103.6      -2.8  Lost E. Conf. 1st Rnd.  B. Stevens (48-34)   \n",
       "3      -0.9  104.5      -1.1  Lost E. Conf. 1st Rnd.  B. Stevens (40-42)   \n",
       "4      -3.8  107.7       1.0                     NaN  B. Stevens (25-57)   \n",
       "5      -2.8  103.3      -2.6  Lost E. Conf. 1st Rnd.   D. Rivers (41-40)   \n",
       "\n",
       "             Top WS  \n",
       "1  I. Thomas (12.5)  \n",
       "2   I. Thomas (9.7)  \n",
       "3   T. Zeller (6.5)  \n",
       "4     B. Bass (5.1)  \n",
       "5   P. Pierce (7.2)  "
      ]
     },
     "execution_count": 14,
     "metadata": {},
     "output_type": "execute_result"
    }
   ],
   "source": [
    "#Rename season and team columns to match column names in players dataframe\n",
    "\n",
    "\n",
    "y82_standings.rename(columns = {'Season': 'Year', 'Team': 'Tm'}, inplace = True)\n",
    "\n",
    "y82_standings.head()"
   ]
  },
  {
   "cell_type": "code",
   "execution_count": 15,
   "metadata": {},
   "outputs": [
    {
     "name": "stderr",
     "output_type": "stream",
     "text": [
      "C:\\Users\\nteut\\Anaconda3\\lib\\site-packages\\pandas\\core\\indexing.py:205: SettingWithCopyWarning: \n",
      "A value is trying to be set on a copy of a slice from a DataFrame\n",
      "\n",
      "See the caveats in the documentation: http://pandas.pydata.org/pandas-docs/stable/user_guide/indexing.html#returning-a-view-versus-a-copy\n",
      "  self._setitem_with_indexer(indexer, value)\n"
     ]
    },
    {
     "data": {
      "text/html": [
       "<div>\n",
       "<style scoped>\n",
       "    .dataframe tbody tr th:only-of-type {\n",
       "        vertical-align: middle;\n",
       "    }\n",
       "\n",
       "    .dataframe tbody tr th {\n",
       "        vertical-align: top;\n",
       "    }\n",
       "\n",
       "    .dataframe thead th {\n",
       "        text-align: right;\n",
       "    }\n",
       "</style>\n",
       "<table border=\"1\" class=\"dataframe\">\n",
       "  <thead>\n",
       "    <tr style=\"text-align: right;\">\n",
       "      <th></th>\n",
       "      <th>Year</th>\n",
       "      <th>Lg</th>\n",
       "      <th>Tm</th>\n",
       "      <th>W</th>\n",
       "      <th>L</th>\n",
       "      <th>W/L%</th>\n",
       "      <th>Finish</th>\n",
       "      <th>SRS</th>\n",
       "      <th>Pace</th>\n",
       "      <th>Rel_Pace</th>\n",
       "      <th>ORtg</th>\n",
       "      <th>Rel_ORtg</th>\n",
       "      <th>DRtg</th>\n",
       "      <th>Rel_DRtg</th>\n",
       "      <th>Playoffs</th>\n",
       "      <th>Coaches</th>\n",
       "      <th>Top WS</th>\n",
       "    </tr>\n",
       "  </thead>\n",
       "  <tbody>\n",
       "    <tr>\n",
       "      <td>1</td>\n",
       "      <td>2017</td>\n",
       "      <td>NBA</td>\n",
       "      <td>BOS</td>\n",
       "      <td>53</td>\n",
       "      <td>29</td>\n",
       "      <td>0.646</td>\n",
       "      <td>1</td>\n",
       "      <td>2.25</td>\n",
       "      <td>96.8</td>\n",
       "      <td>0.4</td>\n",
       "      <td>111.2</td>\n",
       "      <td>2.4</td>\n",
       "      <td>108.4</td>\n",
       "      <td>-0.4</td>\n",
       "      <td>Yes</td>\n",
       "      <td>B. Stevens (53-29)</td>\n",
       "      <td>I. Thomas (12.5)</td>\n",
       "    </tr>\n",
       "    <tr>\n",
       "      <td>2</td>\n",
       "      <td>2016</td>\n",
       "      <td>NBA</td>\n",
       "      <td>BOS</td>\n",
       "      <td>48</td>\n",
       "      <td>34</td>\n",
       "      <td>0.585</td>\n",
       "      <td>2</td>\n",
       "      <td>2.84</td>\n",
       "      <td>98.5</td>\n",
       "      <td>2.7</td>\n",
       "      <td>106.8</td>\n",
       "      <td>0.4</td>\n",
       "      <td>103.6</td>\n",
       "      <td>-2.8</td>\n",
       "      <td>Yes</td>\n",
       "      <td>B. Stevens (48-34)</td>\n",
       "      <td>I. Thomas (9.7)</td>\n",
       "    </tr>\n",
       "    <tr>\n",
       "      <td>3</td>\n",
       "      <td>2015</td>\n",
       "      <td>NBA</td>\n",
       "      <td>BOS</td>\n",
       "      <td>40</td>\n",
       "      <td>42</td>\n",
       "      <td>0.488</td>\n",
       "      <td>2</td>\n",
       "      <td>-0.40</td>\n",
       "      <td>95.8</td>\n",
       "      <td>1.9</td>\n",
       "      <td>104.7</td>\n",
       "      <td>-0.9</td>\n",
       "      <td>104.5</td>\n",
       "      <td>-1.1</td>\n",
       "      <td>Yes</td>\n",
       "      <td>B. Stevens (40-42)</td>\n",
       "      <td>T. Zeller (6.5)</td>\n",
       "    </tr>\n",
       "    <tr>\n",
       "      <td>4</td>\n",
       "      <td>2014</td>\n",
       "      <td>NBA</td>\n",
       "      <td>BOS</td>\n",
       "      <td>25</td>\n",
       "      <td>57</td>\n",
       "      <td>0.305</td>\n",
       "      <td>4</td>\n",
       "      <td>-4.97</td>\n",
       "      <td>93.3</td>\n",
       "      <td>-0.6</td>\n",
       "      <td>102.9</td>\n",
       "      <td>-3.8</td>\n",
       "      <td>107.7</td>\n",
       "      <td>1.0</td>\n",
       "      <td>No</td>\n",
       "      <td>B. Stevens (25-57)</td>\n",
       "      <td>B. Bass (5.1)</td>\n",
       "    </tr>\n",
       "    <tr>\n",
       "      <td>5</td>\n",
       "      <td>2013</td>\n",
       "      <td>NBA</td>\n",
       "      <td>BOS</td>\n",
       "      <td>41</td>\n",
       "      <td>40</td>\n",
       "      <td>0.506</td>\n",
       "      <td>3</td>\n",
       "      <td>-0.62</td>\n",
       "      <td>91.7</td>\n",
       "      <td>-0.3</td>\n",
       "      <td>103.1</td>\n",
       "      <td>-2.8</td>\n",
       "      <td>103.3</td>\n",
       "      <td>-2.6</td>\n",
       "      <td>Yes</td>\n",
       "      <td>D. Rivers (41-40)</td>\n",
       "      <td>P. Pierce (7.2)</td>\n",
       "    </tr>\n",
       "  </tbody>\n",
       "</table>\n",
       "</div>"
      ],
      "text/plain": [
       "   Year   Lg   Tm   W   L   W/L%  Finish   SRS  Pace  Rel_Pace   ORtg  \\\n",
       "1  2017  NBA  BOS  53  29  0.646       1  2.25  96.8       0.4  111.2   \n",
       "2  2016  NBA  BOS  48  34  0.585       2  2.84  98.5       2.7  106.8   \n",
       "3  2015  NBA  BOS  40  42  0.488       2 -0.40  95.8       1.9  104.7   \n",
       "4  2014  NBA  BOS  25  57  0.305       4 -4.97  93.3      -0.6  102.9   \n",
       "5  2013  NBA  BOS  41  40  0.506       3 -0.62  91.7      -0.3  103.1   \n",
       "\n",
       "   Rel_ORtg   DRtg  Rel_DRtg Playoffs             Coaches            Top WS  \n",
       "1       2.4  108.4      -0.4      Yes  B. Stevens (53-29)  I. Thomas (12.5)  \n",
       "2       0.4  103.6      -2.8      Yes  B. Stevens (48-34)   I. Thomas (9.7)  \n",
       "3      -0.9  104.5      -1.1      Yes  B. Stevens (40-42)   T. Zeller (6.5)  \n",
       "4      -3.8  107.7       1.0       No  B. Stevens (25-57)     B. Bass (5.1)  \n",
       "5      -2.8  103.3      -2.6      Yes   D. Rivers (41-40)   P. Pierce (7.2)  "
      ]
     },
     "execution_count": 15,
     "metadata": {},
     "output_type": "execute_result"
    }
   ],
   "source": [
    "#Convert Playoffs to categorical variable, 'Yes' or 'No'\n",
    "\n",
    "y82_standings.Playoffs.loc[~y82_standings.Playoffs.isnull()] = 'Yes'\n",
    "y82_standings.Playoffs.loc[y82_standings.Playoffs.isnull()] = 'No'\n",
    "\n",
    "y82_standings.head()"
   ]
  },
  {
   "cell_type": "code",
   "execution_count": 16,
   "metadata": {},
   "outputs": [],
   "source": [
    "#Define function to reformat Pos variable to remove joined positions (eg PG-SG -> PG)\n",
    "\n",
    "def pos_edit(s):\n",
    "    if '-' in s:\n",
    "        return str(s.split('-')[0])\n",
    "    else:\n",
    "        return s"
   ]
  },
  {
   "cell_type": "code",
   "execution_count": 17,
   "metadata": {},
   "outputs": [],
   "source": [
    "#Apply reformatting function and create POS_final column to use in analysis\n",
    "\n",
    "y82_player_stats['POS_final'] = y82_player_stats.Pos.apply(lambda x: pos_edit(x))"
   ]
  },
  {
   "cell_type": "code",
   "execution_count": 18,
   "metadata": {},
   "outputs": [],
   "source": [
    "#Combine player statistics and team standings into single table\n",
    "\n",
    "player_w_standings = pd.merge(y82_player_stats, y82_standings[['Year', 'Tm', 'W/L%', 'Playoffs']], on = ['Year', 'Tm'])"
   ]
  },
  {
   "cell_type": "code",
   "execution_count": 19,
   "metadata": {},
   "outputs": [
    {
     "data": {
      "text/html": [
       "<div>\n",
       "<style scoped>\n",
       "    .dataframe tbody tr th:only-of-type {\n",
       "        vertical-align: middle;\n",
       "    }\n",
       "\n",
       "    .dataframe tbody tr th {\n",
       "        vertical-align: top;\n",
       "    }\n",
       "\n",
       "    .dataframe thead th {\n",
       "        text-align: right;\n",
       "    }\n",
       "</style>\n",
       "<table border=\"1\" class=\"dataframe\">\n",
       "  <thead>\n",
       "    <tr style=\"text-align: right;\">\n",
       "      <th></th>\n",
       "      <th>Year</th>\n",
       "      <th>Tm</th>\n",
       "      <th>Playoffs</th>\n",
       "      <th>OBPM</th>\n",
       "      <th>DBPM</th>\n",
       "      <th>OWS</th>\n",
       "      <th>DWS</th>\n",
       "    </tr>\n",
       "  </thead>\n",
       "  <tbody>\n",
       "    <tr>\n",
       "      <td>0</td>\n",
       "      <td>1983</td>\n",
       "      <td>ATL</td>\n",
       "      <td>Yes</td>\n",
       "      <td>-1.941176</td>\n",
       "      <td>-0.770588</td>\n",
       "      <td>0.835294</td>\n",
       "      <td>1.429412</td>\n",
       "    </tr>\n",
       "    <tr>\n",
       "      <td>1</td>\n",
       "      <td>1983</td>\n",
       "      <td>BOS</td>\n",
       "      <td>Yes</td>\n",
       "      <td>-1.207692</td>\n",
       "      <td>0.130769</td>\n",
       "      <td>1.984615</td>\n",
       "      <td>2.107692</td>\n",
       "    </tr>\n",
       "    <tr>\n",
       "      <td>2</td>\n",
       "      <td>1983</td>\n",
       "      <td>BRK</td>\n",
       "      <td>Yes</td>\n",
       "      <td>-2.158824</td>\n",
       "      <td>0.717647</td>\n",
       "      <td>0.800000</td>\n",
       "      <td>2.052941</td>\n",
       "    </tr>\n",
       "    <tr>\n",
       "      <td>3</td>\n",
       "      <td>1983</td>\n",
       "      <td>CHI</td>\n",
       "      <td>No</td>\n",
       "      <td>-1.733333</td>\n",
       "      <td>-0.926667</td>\n",
       "      <td>1.213333</td>\n",
       "      <td>0.846667</td>\n",
       "    </tr>\n",
       "    <tr>\n",
       "      <td>4</td>\n",
       "      <td>1983</td>\n",
       "      <td>CLE</td>\n",
       "      <td>No</td>\n",
       "      <td>-1.994444</td>\n",
       "      <td>-0.305556</td>\n",
       "      <td>0.461111</td>\n",
       "      <td>0.861111</td>\n",
       "    </tr>\n",
       "  </tbody>\n",
       "</table>\n",
       "</div>"
      ],
      "text/plain": [
       "   Year   Tm Playoffs      OBPM      DBPM       OWS       DWS\n",
       "0  1983  ATL      Yes -1.941176 -0.770588  0.835294  1.429412\n",
       "1  1983  BOS      Yes -1.207692  0.130769  1.984615  2.107692\n",
       "2  1983  BRK      Yes -2.158824  0.717647  0.800000  2.052941\n",
       "3  1983  CHI       No -1.733333 -0.926667  1.213333  0.846667\n",
       "4  1983  CLE       No -1.994444 -0.305556  0.461111  0.861111"
      ]
     },
     "execution_count": 19,
     "metadata": {},
     "output_type": "execute_result"
    }
   ],
   "source": [
    "#Calculate average collective statistics for each team each year\n",
    "\n",
    "team_stats = player_w_standings.groupby(['Year', 'Tm', 'Playoffs'])['OBPM', 'DBPM', 'OWS', 'DWS'].mean().reset_index()\n",
    "team_stats.head()"
   ]
  },
  {
   "cell_type": "code",
   "execution_count": 20,
   "metadata": {},
   "outputs": [],
   "source": [
    "#Add team average collective statistics to players dataframe\n",
    "\n",
    "player_w_standings_final = pd.merge(player_w_standings, team_stats[['Year', 'Tm', 'OBPM', 'DBPM', 'OWS', 'DWS']], on = ['Year', 'Tm'])\n",
    "player_w_standings_final.rename(columns = {'OBPM_y': 'Team_OBPM', 'DBPM_y': 'Team_DBPM', 'OWS_y': 'Team_OWS', 'DWS_y': 'Team_DWS',}, inplace = True)"
   ]
  },
  {
   "cell_type": "code",
   "execution_count": 21,
   "metadata": {},
   "outputs": [
    {
     "data": {
      "text/html": [
       "<div>\n",
       "<style scoped>\n",
       "    .dataframe tbody tr th:only-of-type {\n",
       "        vertical-align: middle;\n",
       "    }\n",
       "\n",
       "    .dataframe tbody tr th {\n",
       "        vertical-align: top;\n",
       "    }\n",
       "\n",
       "    .dataframe thead th {\n",
       "        text-align: right;\n",
       "    }\n",
       "</style>\n",
       "<table border=\"1\" class=\"dataframe\">\n",
       "  <thead>\n",
       "    <tr style=\"text-align: right;\">\n",
       "      <th></th>\n",
       "      <th>Year</th>\n",
       "      <th>Player</th>\n",
       "      <th>Pos</th>\n",
       "      <th>Tm</th>\n",
       "      <th>G</th>\n",
       "      <th>GS</th>\n",
       "      <th>MP</th>\n",
       "      <th>OBPM_x</th>\n",
       "      <th>DBPM_x</th>\n",
       "      <th>OWS_x</th>\n",
       "      <th>DWS_x</th>\n",
       "      <th>%GS</th>\n",
       "      <th>Role</th>\n",
       "      <th>POS_final</th>\n",
       "      <th>W/L%</th>\n",
       "      <th>Playoffs</th>\n",
       "      <th>Team_OBPM</th>\n",
       "      <th>Team_DBPM</th>\n",
       "      <th>Team_OWS</th>\n",
       "      <th>Team_DWS</th>\n",
       "    </tr>\n",
       "  </thead>\n",
       "  <tbody>\n",
       "    <tr>\n",
       "      <td>0</td>\n",
       "      <td>1983</td>\n",
       "      <td>Kareem Abdul-Jabbar*</td>\n",
       "      <td>C</td>\n",
       "      <td>LAL</td>\n",
       "      <td>79.0</td>\n",
       "      <td>79.0</td>\n",
       "      <td>2554.0</td>\n",
       "      <td>3.6</td>\n",
       "      <td>0.3</td>\n",
       "      <td>8.0</td>\n",
       "      <td>2.9</td>\n",
       "      <td>1.000000</td>\n",
       "      <td>2</td>\n",
       "      <td>C</td>\n",
       "      <td>0.707</td>\n",
       "      <td>Yes</td>\n",
       "      <td>-1.98125</td>\n",
       "      <td>-1.36875</td>\n",
       "      <td>2.1375</td>\n",
       "      <td>1.2125</td>\n",
       "    </tr>\n",
       "    <tr>\n",
       "      <td>1</td>\n",
       "      <td>1983</td>\n",
       "      <td>Billy Ray</td>\n",
       "      <td>SG</td>\n",
       "      <td>LAL</td>\n",
       "      <td>4.0</td>\n",
       "      <td>0.0</td>\n",
       "      <td>27.0</td>\n",
       "      <td>-14.2</td>\n",
       "      <td>-6.6</td>\n",
       "      <td>-0.2</td>\n",
       "      <td>0.0</td>\n",
       "      <td>0.000000</td>\n",
       "      <td>0</td>\n",
       "      <td>SG</td>\n",
       "      <td>0.707</td>\n",
       "      <td>Yes</td>\n",
       "      <td>-1.98125</td>\n",
       "      <td>-1.36875</td>\n",
       "      <td>2.1375</td>\n",
       "      <td>1.2125</td>\n",
       "    </tr>\n",
       "    <tr>\n",
       "      <td>2</td>\n",
       "      <td>1983</td>\n",
       "      <td>Joe Cooper</td>\n",
       "      <td>C</td>\n",
       "      <td>LAL</td>\n",
       "      <td>2.0</td>\n",
       "      <td>0.0</td>\n",
       "      <td>11.0</td>\n",
       "      <td>-13.2</td>\n",
       "      <td>-0.1</td>\n",
       "      <td>-0.1</td>\n",
       "      <td>0.0</td>\n",
       "      <td>0.000000</td>\n",
       "      <td>0</td>\n",
       "      <td>C</td>\n",
       "      <td>0.707</td>\n",
       "      <td>Yes</td>\n",
       "      <td>-1.98125</td>\n",
       "      <td>-1.36875</td>\n",
       "      <td>2.1375</td>\n",
       "      <td>1.2125</td>\n",
       "    </tr>\n",
       "    <tr>\n",
       "      <td>3</td>\n",
       "      <td>1983</td>\n",
       "      <td>Michael Cooper</td>\n",
       "      <td>SG</td>\n",
       "      <td>LAL</td>\n",
       "      <td>82.0</td>\n",
       "      <td>3.0</td>\n",
       "      <td>2148.0</td>\n",
       "      <td>0.8</td>\n",
       "      <td>1.2</td>\n",
       "      <td>3.1</td>\n",
       "      <td>2.1</td>\n",
       "      <td>0.036585</td>\n",
       "      <td>1</td>\n",
       "      <td>SG</td>\n",
       "      <td>0.707</td>\n",
       "      <td>Yes</td>\n",
       "      <td>-1.98125</td>\n",
       "      <td>-1.36875</td>\n",
       "      <td>2.1375</td>\n",
       "      <td>1.2125</td>\n",
       "    </tr>\n",
       "    <tr>\n",
       "      <td>4</td>\n",
       "      <td>1983</td>\n",
       "      <td>Clay Johnson</td>\n",
       "      <td>SG</td>\n",
       "      <td>LAL</td>\n",
       "      <td>48.0</td>\n",
       "      <td>0.0</td>\n",
       "      <td>447.0</td>\n",
       "      <td>-1.7</td>\n",
       "      <td>-1.1</td>\n",
       "      <td>0.2</td>\n",
       "      <td>0.3</td>\n",
       "      <td>0.000000</td>\n",
       "      <td>1</td>\n",
       "      <td>SG</td>\n",
       "      <td>0.707</td>\n",
       "      <td>Yes</td>\n",
       "      <td>-1.98125</td>\n",
       "      <td>-1.36875</td>\n",
       "      <td>2.1375</td>\n",
       "      <td>1.2125</td>\n",
       "    </tr>\n",
       "  </tbody>\n",
       "</table>\n",
       "</div>"
      ],
      "text/plain": [
       "   Year                Player Pos   Tm     G    GS      MP  OBPM_x  DBPM_x  \\\n",
       "0  1983  Kareem Abdul-Jabbar*   C  LAL  79.0  79.0  2554.0     3.6     0.3   \n",
       "1  1983             Billy Ray  SG  LAL   4.0   0.0    27.0   -14.2    -6.6   \n",
       "2  1983            Joe Cooper   C  LAL   2.0   0.0    11.0   -13.2    -0.1   \n",
       "3  1983        Michael Cooper  SG  LAL  82.0   3.0  2148.0     0.8     1.2   \n",
       "4  1983          Clay Johnson  SG  LAL  48.0   0.0   447.0    -1.7    -1.1   \n",
       "\n",
       "   OWS_x  DWS_x       %GS  Role POS_final   W/L% Playoffs  Team_OBPM  \\\n",
       "0    8.0    2.9  1.000000     2         C  0.707      Yes   -1.98125   \n",
       "1   -0.2    0.0  0.000000     0        SG  0.707      Yes   -1.98125   \n",
       "2   -0.1    0.0  0.000000     0         C  0.707      Yes   -1.98125   \n",
       "3    3.1    2.1  0.036585     1        SG  0.707      Yes   -1.98125   \n",
       "4    0.2    0.3  0.000000     1        SG  0.707      Yes   -1.98125   \n",
       "\n",
       "   Team_DBPM  Team_OWS  Team_DWS  \n",
       "0   -1.36875    2.1375    1.2125  \n",
       "1   -1.36875    2.1375    1.2125  \n",
       "2   -1.36875    2.1375    1.2125  \n",
       "3   -1.36875    2.1375    1.2125  \n",
       "4   -1.36875    2.1375    1.2125  "
      ]
     },
     "execution_count": 21,
     "metadata": {},
     "output_type": "execute_result"
    }
   ],
   "source": [
    "player_w_standings_final.head()"
   ]
  },
  {
   "cell_type": "code",
   "execution_count": 22,
   "metadata": {},
   "outputs": [],
   "source": [
    "#Calculate OBPM, DBPM, OWS, DWS above team average for each player\n",
    "\n",
    "player_w_standings_final['OBPM_Diff'] = player_w_standings_final.OBPM_x - player_w_standings_final.Team_OBPM\n",
    "player_w_standings_final['DBPM_Diff'] = player_w_standings_final.DBPM_x - player_w_standings_final.Team_DBPM\n",
    "player_w_standings_final['OWS_Diff'] = player_w_standings_final.OWS_x - player_w_standings_final.Team_OWS\n",
    "player_w_standings_final['DWS_Diff'] = player_w_standings_final.DWS_x - player_w_standings_final.Team_DWS"
   ]
  },
  {
   "cell_type": "code",
   "execution_count": 23,
   "metadata": {},
   "outputs": [
    {
     "data": {
      "text/html": [
       "<div>\n",
       "<style scoped>\n",
       "    .dataframe tbody tr th:only-of-type {\n",
       "        vertical-align: middle;\n",
       "    }\n",
       "\n",
       "    .dataframe tbody tr th {\n",
       "        vertical-align: top;\n",
       "    }\n",
       "\n",
       "    .dataframe thead th {\n",
       "        text-align: right;\n",
       "    }\n",
       "</style>\n",
       "<table border=\"1\" class=\"dataframe\">\n",
       "  <thead>\n",
       "    <tr style=\"text-align: right;\">\n",
       "      <th></th>\n",
       "      <th>Year</th>\n",
       "      <th>Player</th>\n",
       "      <th>Pos</th>\n",
       "      <th>Tm</th>\n",
       "      <th>G</th>\n",
       "      <th>GS</th>\n",
       "      <th>MP</th>\n",
       "      <th>OBPM_x</th>\n",
       "      <th>DBPM_x</th>\n",
       "      <th>OWS_x</th>\n",
       "      <th>...</th>\n",
       "      <th>W/L%</th>\n",
       "      <th>Playoffs</th>\n",
       "      <th>Team_OBPM</th>\n",
       "      <th>Team_DBPM</th>\n",
       "      <th>Team_OWS</th>\n",
       "      <th>Team_DWS</th>\n",
       "      <th>OBPM_Diff</th>\n",
       "      <th>DBPM_Diff</th>\n",
       "      <th>OWS_Diff</th>\n",
       "      <th>DWS_Diff</th>\n",
       "    </tr>\n",
       "  </thead>\n",
       "  <tbody>\n",
       "    <tr>\n",
       "      <td>0</td>\n",
       "      <td>1983</td>\n",
       "      <td>Kareem Abdul-Jabbar*</td>\n",
       "      <td>C</td>\n",
       "      <td>LAL</td>\n",
       "      <td>79.0</td>\n",
       "      <td>79.0</td>\n",
       "      <td>2554.0</td>\n",
       "      <td>3.6</td>\n",
       "      <td>0.3</td>\n",
       "      <td>8.0</td>\n",
       "      <td>...</td>\n",
       "      <td>0.707</td>\n",
       "      <td>Yes</td>\n",
       "      <td>-1.98125</td>\n",
       "      <td>-1.36875</td>\n",
       "      <td>2.1375</td>\n",
       "      <td>1.2125</td>\n",
       "      <td>5.58125</td>\n",
       "      <td>1.66875</td>\n",
       "      <td>5.8625</td>\n",
       "      <td>1.6875</td>\n",
       "    </tr>\n",
       "    <tr>\n",
       "      <td>1</td>\n",
       "      <td>1983</td>\n",
       "      <td>Billy Ray</td>\n",
       "      <td>SG</td>\n",
       "      <td>LAL</td>\n",
       "      <td>4.0</td>\n",
       "      <td>0.0</td>\n",
       "      <td>27.0</td>\n",
       "      <td>-14.2</td>\n",
       "      <td>-6.6</td>\n",
       "      <td>-0.2</td>\n",
       "      <td>...</td>\n",
       "      <td>0.707</td>\n",
       "      <td>Yes</td>\n",
       "      <td>-1.98125</td>\n",
       "      <td>-1.36875</td>\n",
       "      <td>2.1375</td>\n",
       "      <td>1.2125</td>\n",
       "      <td>-12.21875</td>\n",
       "      <td>-5.23125</td>\n",
       "      <td>-2.3375</td>\n",
       "      <td>-1.2125</td>\n",
       "    </tr>\n",
       "    <tr>\n",
       "      <td>2</td>\n",
       "      <td>1983</td>\n",
       "      <td>Joe Cooper</td>\n",
       "      <td>C</td>\n",
       "      <td>LAL</td>\n",
       "      <td>2.0</td>\n",
       "      <td>0.0</td>\n",
       "      <td>11.0</td>\n",
       "      <td>-13.2</td>\n",
       "      <td>-0.1</td>\n",
       "      <td>-0.1</td>\n",
       "      <td>...</td>\n",
       "      <td>0.707</td>\n",
       "      <td>Yes</td>\n",
       "      <td>-1.98125</td>\n",
       "      <td>-1.36875</td>\n",
       "      <td>2.1375</td>\n",
       "      <td>1.2125</td>\n",
       "      <td>-11.21875</td>\n",
       "      <td>1.26875</td>\n",
       "      <td>-2.2375</td>\n",
       "      <td>-1.2125</td>\n",
       "    </tr>\n",
       "    <tr>\n",
       "      <td>3</td>\n",
       "      <td>1983</td>\n",
       "      <td>Michael Cooper</td>\n",
       "      <td>SG</td>\n",
       "      <td>LAL</td>\n",
       "      <td>82.0</td>\n",
       "      <td>3.0</td>\n",
       "      <td>2148.0</td>\n",
       "      <td>0.8</td>\n",
       "      <td>1.2</td>\n",
       "      <td>3.1</td>\n",
       "      <td>...</td>\n",
       "      <td>0.707</td>\n",
       "      <td>Yes</td>\n",
       "      <td>-1.98125</td>\n",
       "      <td>-1.36875</td>\n",
       "      <td>2.1375</td>\n",
       "      <td>1.2125</td>\n",
       "      <td>2.78125</td>\n",
       "      <td>2.56875</td>\n",
       "      <td>0.9625</td>\n",
       "      <td>0.8875</td>\n",
       "    </tr>\n",
       "    <tr>\n",
       "      <td>4</td>\n",
       "      <td>1983</td>\n",
       "      <td>Clay Johnson</td>\n",
       "      <td>SG</td>\n",
       "      <td>LAL</td>\n",
       "      <td>48.0</td>\n",
       "      <td>0.0</td>\n",
       "      <td>447.0</td>\n",
       "      <td>-1.7</td>\n",
       "      <td>-1.1</td>\n",
       "      <td>0.2</td>\n",
       "      <td>...</td>\n",
       "      <td>0.707</td>\n",
       "      <td>Yes</td>\n",
       "      <td>-1.98125</td>\n",
       "      <td>-1.36875</td>\n",
       "      <td>2.1375</td>\n",
       "      <td>1.2125</td>\n",
       "      <td>0.28125</td>\n",
       "      <td>0.26875</td>\n",
       "      <td>-1.9375</td>\n",
       "      <td>-0.9125</td>\n",
       "    </tr>\n",
       "  </tbody>\n",
       "</table>\n",
       "<p>5 rows × 24 columns</p>\n",
       "</div>"
      ],
      "text/plain": [
       "   Year                Player Pos   Tm     G    GS      MP  OBPM_x  DBPM_x  \\\n",
       "0  1983  Kareem Abdul-Jabbar*   C  LAL  79.0  79.0  2554.0     3.6     0.3   \n",
       "1  1983             Billy Ray  SG  LAL   4.0   0.0    27.0   -14.2    -6.6   \n",
       "2  1983            Joe Cooper   C  LAL   2.0   0.0    11.0   -13.2    -0.1   \n",
       "3  1983        Michael Cooper  SG  LAL  82.0   3.0  2148.0     0.8     1.2   \n",
       "4  1983          Clay Johnson  SG  LAL  48.0   0.0   447.0    -1.7    -1.1   \n",
       "\n",
       "   OWS_x  ...   W/L%  Playoffs  Team_OBPM Team_DBPM  Team_OWS Team_DWS  \\\n",
       "0    8.0  ...  0.707       Yes   -1.98125  -1.36875    2.1375   1.2125   \n",
       "1   -0.2  ...  0.707       Yes   -1.98125  -1.36875    2.1375   1.2125   \n",
       "2   -0.1  ...  0.707       Yes   -1.98125  -1.36875    2.1375   1.2125   \n",
       "3    3.1  ...  0.707       Yes   -1.98125  -1.36875    2.1375   1.2125   \n",
       "4    0.2  ...  0.707       Yes   -1.98125  -1.36875    2.1375   1.2125   \n",
       "\n",
       "   OBPM_Diff  DBPM_Diff  OWS_Diff  DWS_Diff  \n",
       "0    5.58125    1.66875    5.8625    1.6875  \n",
       "1  -12.21875   -5.23125   -2.3375   -1.2125  \n",
       "2  -11.21875    1.26875   -2.2375   -1.2125  \n",
       "3    2.78125    2.56875    0.9625    0.8875  \n",
       "4    0.28125    0.26875   -1.9375   -0.9125  \n",
       "\n",
       "[5 rows x 24 columns]"
      ]
     },
     "execution_count": 23,
     "metadata": {},
     "output_type": "execute_result"
    }
   ],
   "source": [
    "player_w_standings_final.head()"
   ]
  },
  {
   "cell_type": "code",
   "execution_count": 24,
   "metadata": {},
   "outputs": [
    {
     "data": {
      "text/html": [
       "<div>\n",
       "<style scoped>\n",
       "    .dataframe tbody tr th:only-of-type {\n",
       "        vertical-align: middle;\n",
       "    }\n",
       "\n",
       "    .dataframe tbody tr th {\n",
       "        vertical-align: top;\n",
       "    }\n",
       "\n",
       "    .dataframe thead th {\n",
       "        text-align: right;\n",
       "    }\n",
       "</style>\n",
       "<table border=\"1\" class=\"dataframe\">\n",
       "  <thead>\n",
       "    <tr style=\"text-align: right;\">\n",
       "      <th></th>\n",
       "      <th>Year</th>\n",
       "      <th>Tm</th>\n",
       "      <th>Playoffs</th>\n",
       "      <th>Role_x</th>\n",
       "      <th>OBPM_Diff_x</th>\n",
       "      <th>DBPM_Diff_x</th>\n",
       "      <th>OWS_Diff_x</th>\n",
       "      <th>DWS_Diff_x</th>\n",
       "      <th>Role_y</th>\n",
       "      <th>OBPM_Diff_y</th>\n",
       "      <th>DBPM_Diff_y</th>\n",
       "      <th>OWS_Diff_y</th>\n",
       "      <th>DWS_Diff_y</th>\n",
       "    </tr>\n",
       "  </thead>\n",
       "  <tbody>\n",
       "    <tr>\n",
       "      <td>0</td>\n",
       "      <td>1983</td>\n",
       "      <td>ATL</td>\n",
       "      <td>Yes</td>\n",
       "      <td>2</td>\n",
       "      <td>2.357843</td>\n",
       "      <td>1.187255</td>\n",
       "      <td>1.364706</td>\n",
       "      <td>1.353922</td>\n",
       "      <td>1</td>\n",
       "      <td>-0.758824</td>\n",
       "      <td>0.942017</td>\n",
       "      <td>-0.706723</td>\n",
       "      <td>-0.415126</td>\n",
       "    </tr>\n",
       "    <tr>\n",
       "      <td>1</td>\n",
       "      <td>1983</td>\n",
       "      <td>BOS</td>\n",
       "      <td>Yes</td>\n",
       "      <td>2</td>\n",
       "      <td>2.667692</td>\n",
       "      <td>1.129231</td>\n",
       "      <td>2.155385</td>\n",
       "      <td>1.352308</td>\n",
       "      <td>1</td>\n",
       "      <td>-0.763736</td>\n",
       "      <td>-0.316484</td>\n",
       "      <td>-1.227473</td>\n",
       "      <td>-0.664835</td>\n",
       "    </tr>\n",
       "    <tr>\n",
       "      <td>2</td>\n",
       "      <td>1983</td>\n",
       "      <td>BRK</td>\n",
       "      <td>Yes</td>\n",
       "      <td>2</td>\n",
       "      <td>1.558824</td>\n",
       "      <td>0.210924</td>\n",
       "      <td>0.785714</td>\n",
       "      <td>1.261345</td>\n",
       "      <td>1</td>\n",
       "      <td>-0.255462</td>\n",
       "      <td>0.210924</td>\n",
       "      <td>-0.428571</td>\n",
       "      <td>-0.424370</td>\n",
       "    </tr>\n",
       "    <tr>\n",
       "      <td>3</td>\n",
       "      <td>1983</td>\n",
       "      <td>CHI</td>\n",
       "      <td>No</td>\n",
       "      <td>2</td>\n",
       "      <td>1.950000</td>\n",
       "      <td>0.260000</td>\n",
       "      <td>1.270000</td>\n",
       "      <td>0.570000</td>\n",
       "      <td>1</td>\n",
       "      <td>0.133333</td>\n",
       "      <td>0.246667</td>\n",
       "      <td>-0.513333</td>\n",
       "      <td>-0.066667</td>\n",
       "    </tr>\n",
       "    <tr>\n",
       "      <td>4</td>\n",
       "      <td>1983</td>\n",
       "      <td>CLE</td>\n",
       "      <td>No</td>\n",
       "      <td>2</td>\n",
       "      <td>0.750000</td>\n",
       "      <td>-0.061111</td>\n",
       "      <td>0.383333</td>\n",
       "      <td>0.138889</td>\n",
       "      <td>1</td>\n",
       "      <td>-0.091270</td>\n",
       "      <td>0.348413</td>\n",
       "      <td>-0.346825</td>\n",
       "      <td>0.053175</td>\n",
       "    </tr>\n",
       "  </tbody>\n",
       "</table>\n",
       "</div>"
      ],
      "text/plain": [
       "   Year   Tm Playoffs  Role_x  OBPM_Diff_x  DBPM_Diff_x  OWS_Diff_x  \\\n",
       "0  1983  ATL      Yes       2     2.357843     1.187255    1.364706   \n",
       "1  1983  BOS      Yes       2     2.667692     1.129231    2.155385   \n",
       "2  1983  BRK      Yes       2     1.558824     0.210924    0.785714   \n",
       "3  1983  CHI       No       2     1.950000     0.260000    1.270000   \n",
       "4  1983  CLE       No       2     0.750000    -0.061111    0.383333   \n",
       "\n",
       "   DWS_Diff_x  Role_y  OBPM_Diff_y  DBPM_Diff_y  OWS_Diff_y  DWS_Diff_y  \n",
       "0    1.353922       1    -0.758824     0.942017   -0.706723   -0.415126  \n",
       "1    1.352308       1    -0.763736    -0.316484   -1.227473   -0.664835  \n",
       "2    1.261345       1    -0.255462     0.210924   -0.428571   -0.424370  \n",
       "3    0.570000       1     0.133333     0.246667   -0.513333   -0.066667  \n",
       "4    0.138889       1    -0.091270     0.348413   -0.346825    0.053175  "
      ]
     },
     "execution_count": 24,
     "metadata": {},
     "output_type": "execute_result"
    }
   ],
   "source": [
    "#Create dataframe with collective statistics averaged by team grouped by role\n",
    "#Eliminate bench players, remove null rows\n",
    "\n",
    "team_stats_S = player_w_standings_final[(player_w_standings_final.Role == 2)].groupby(['Year', 'Tm', 'Playoffs', 'Role'])['OBPM_Diff', 'DBPM_Diff', 'OWS_Diff', 'DWS_Diff'].mean().reset_index()\n",
    "team_stats_S.dropna(inplace = True)\n",
    "team_stats_R = player_w_standings_final[(player_w_standings_final.Role == 1)].groupby(['Year', 'Tm', 'Playoffs', 'Role'])['OBPM_Diff', 'DBPM_Diff', 'OWS_Diff', 'DWS_Diff'].mean().reset_index()\n",
    "team_stats_R.dropna(inplace = True)\n",
    "\n",
    "team_stats_final = pd.merge(team_stats_S, team_stats_R, on = ['Year', 'Tm', 'Playoffs'])\n",
    "team_stats_final.head()"
   ]
  },
  {
   "cell_type": "code",
   "execution_count": 25,
   "metadata": {},
   "outputs": [],
   "source": [
    "#Calculate difference between average collective statistics for starters and reserves for each team\n",
    "\n",
    "team_stats_final['OBPM_Diff'] = team_stats_final.OBPM_Diff_x - team_stats_final.OBPM_Diff_y\n",
    "team_stats_final['DBPM_Diff'] = team_stats_final.DBPM_Diff_x - team_stats_final.DBPM_Diff_y\n",
    "team_stats_final['OWS_Diff'] = team_stats_final.OWS_Diff_x - team_stats_final.OWS_Diff_y\n",
    "team_stats_final['DWS_Diff'] = team_stats_final.DWS_Diff_x - team_stats_final.DWS_Diff_y"
   ]
  },
  {
   "cell_type": "code",
   "execution_count": 26,
   "metadata": {},
   "outputs": [
    {
     "data": {
      "text/plain": [
       "Ttest_indResult(statistic=10.56262661097012, pvalue=9.137570908148962e-25)"
      ]
     },
     "execution_count": 26,
     "metadata": {},
     "output_type": "execute_result"
    }
   ],
   "source": [
    "#Perform t-test for OBPM\n",
    "\n",
    "stats.ttest_ind(team_stats_final[(team_stats_final.Playoffs == 'Yes')].OBPM_Diff, team_stats_final[(team_stats_final.Playoffs == 'No')].OBPM_Diff)"
   ]
  },
  {
   "cell_type": "code",
   "execution_count": 27,
   "metadata": {},
   "outputs": [
    {
     "data": {
      "text/plain": [
       "Ttest_indResult(statistic=6.909471650540706, pvalue=8.778110486223219e-12)"
      ]
     },
     "execution_count": 27,
     "metadata": {},
     "output_type": "execute_result"
    }
   ],
   "source": [
    "#Perform t-test for DBPM\n",
    "\n",
    "stats.ttest_ind(team_stats_final[(team_stats_final.Playoffs == 'Yes')].DBPM_Diff, team_stats_final[(team_stats_final.Playoffs == 'No')].DBPM_Diff)"
   ]
  },
  {
   "cell_type": "code",
   "execution_count": 28,
   "metadata": {},
   "outputs": [
    {
     "data": {
      "text/plain": [
       "Ttest_indResult(statistic=17.201161685515803, pvalue=4.151560037287022e-58)"
      ]
     },
     "execution_count": 28,
     "metadata": {},
     "output_type": "execute_result"
    }
   ],
   "source": [
    "#Perform t-test for OWS\n",
    "\n",
    "stats.ttest_ind(team_stats_final[(team_stats_final.Playoffs == 'Yes')].OWS_Diff, team_stats_final[(team_stats_final.Playoffs == 'No')].OWS_Diff)"
   ]
  },
  {
   "cell_type": "code",
   "execution_count": 29,
   "metadata": {},
   "outputs": [
    {
     "data": {
      "text/plain": [
       "Ttest_indResult(statistic=20.466251026070964, pvalue=1.027033217588293e-77)"
      ]
     },
     "execution_count": 29,
     "metadata": {},
     "output_type": "execute_result"
    }
   ],
   "source": [
    "#Perform t-test for DWS\n",
    "\n",
    "stats.ttest_ind(team_stats_final[(team_stats_final.Playoffs == 'Yes')].DWS_Diff, team_stats_final[(team_stats_final.Playoffs == 'No')].DWS_Diff)"
   ]
  },
  {
   "cell_type": "code",
   "execution_count": 40,
   "metadata": {},
   "outputs": [
    {
     "name": "stdout",
     "output_type": "stream",
     "text": [
      "0.6398349219817272 0.9272391817532235\n"
     ]
    }
   ],
   "source": [
    "#Calculate confidence interval for OBPM\n",
    "\n",
    "n1_OBPM_2 = team_stats_final[(team_stats_final.Playoffs == 'Yes')].OBPM_Diff.shape[0]\n",
    "avg1_OBPM_2 = team_stats_final[(team_stats_final.Playoffs == 'Yes')].OBPM_Diff.mean()\n",
    "std1_OBPM_2 = team_stats_final[(team_stats_final.Playoffs == 'Yes')].OBPM_Diff.var()\n",
    "\n",
    "n2_OBPM_2 = team_stats_final[(team_stats_final.Playoffs == 'No')].OBPM_Diff.shape[0]\n",
    "avg2_OBPM_2 = team_stats_final[(team_stats_final.Playoffs == 'No')].OBPM_Diff.mean()\n",
    "std2_OBPM_2 = team_stats_final[(team_stats_final.Playoffs == 'No')].OBPM_Diff.var()\n",
    "\n",
    "upper_OBPM_2 = (avg1_OBPM_2 - avg2_OBPM_2) + 1.96*math.sqrt(std1_OBPM_2/n1_OBPM_2 + std2_OBPM_2/n2_OBPM_2)\n",
    "lower_OBPM_2 = (avg1_OBPM_2 - avg2_OBPM_2) - 1.96*math.sqrt(std1_OBPM_2/n1_OBPM_2 + std2_OBPM_2/n2_OBPM_2)\n",
    "\n",
    "print(lower_OBPM_2, upper_OBPM_2)"
   ]
  },
  {
   "cell_type": "code",
   "execution_count": 41,
   "metadata": {},
   "outputs": [
    {
     "name": "stdout",
     "output_type": "stream",
     "text": [
      "0.24040691222013383 0.43032902506590615\n"
     ]
    }
   ],
   "source": [
    "#Calculate confidence interval for DBPM\n",
    "\n",
    "n1_DBPM_2 = team_stats_final[(team_stats_final.Playoffs == 'Yes')].DBPM_Diff.shape[0]\n",
    "avg1_DBPM_2 = team_stats_final[(team_stats_final.Playoffs == 'Yes')].DBPM_Diff.mean()\n",
    "std1_DBPM_2 = team_stats_final[(team_stats_final.Playoffs == 'Yes')].DBPM_Diff.var()\n",
    "\n",
    "n2_DBPM_2 = team_stats_final[(team_stats_final.Playoffs == 'No')].DBPM_Diff.shape[0]\n",
    "avg2_DBPM_2 = team_stats_final[(team_stats_final.Playoffs == 'No')].DBPM_Diff.mean()\n",
    "std2_DBPM_2 = team_stats_final[(team_stats_final.Playoffs == 'No')].DBPM_Diff.var()\n",
    "\n",
    "upper_DBPM_2 = (avg1_DBPM_2 - avg2_DBPM_2) + 1.96*math.sqrt(std1_DBPM_2/n1_DBPM_2 + std2_DBPM_2/n2_DBPM_2)\n",
    "lower_DBPM_2 = (avg1_DBPM_2 - avg2_DBPM_2) - 1.96*math.sqrt(std1_DBPM_2/n1_DBPM_2 + std2_DBPM_2/n2_DBPM_2)\n",
    "\n",
    "print(lower_DBPM_2, upper_DBPM_2)"
   ]
  },
  {
   "cell_type": "code",
   "execution_count": 42,
   "metadata": {},
   "outputs": [
    {
     "name": "stdout",
     "output_type": "stream",
     "text": [
      "1.1572848490113503 1.4431224034180001\n"
     ]
    }
   ],
   "source": [
    "#Calculate confidence interval for OWS\n",
    "\n",
    "n1_OWS_2 = team_stats_final[(team_stats_final.Playoffs == 'Yes')].OWS_Diff.shape[0]\n",
    "avg1_OWS_2 = team_stats_final[(team_stats_final.Playoffs == 'Yes')].OWS_Diff.mean()\n",
    "std1_OWS_2 = team_stats_final[(team_stats_final.Playoffs == 'Yes')].OWS_Diff.var()\n",
    "\n",
    "n2_OWS_2 = team_stats_final[(team_stats_final.Playoffs == 'No')].OWS_Diff.shape[0]\n",
    "avg2_OWS_2 = team_stats_final[(team_stats_final.Playoffs == 'No')].OWS_Diff.mean()\n",
    "std2_OWS_2 = team_stats_final[(team_stats_final.Playoffs == 'No')].OWS_Diff.var()\n",
    "\n",
    "upper_OWS_2 = (avg1_OWS_2 - avg2_OWS_2) + 1.96*math.sqrt(std1_OWS_2/n1_OWS_2 + std2_OWS_2/n2_OWS_2)\n",
    "lower_OWS_2 = (avg1_OWS_2 - avg2_OWS_2) - 1.96*math.sqrt(std1_OWS_2/n1_OWS_2 + std2_OWS_2/n2_OWS_2)\n",
    "\n",
    "print(lower_OWS_2, upper_OWS_2)"
   ]
  },
  {
   "cell_type": "code",
   "execution_count": 43,
   "metadata": {},
   "outputs": [
    {
     "name": "stdout",
     "output_type": "stream",
     "text": [
      "0.7345564667564635 0.882531033187923\n"
     ]
    }
   ],
   "source": [
    "#Calculate confidence interval for DWS\n",
    "\n",
    "n1_DWS_2 = team_stats_final[(team_stats_final.Playoffs == 'Yes')].DWS_Diff.shape[0]\n",
    "avg1_DWS_2 = team_stats_final[(team_stats_final.Playoffs == 'Yes')].DWS_Diff.mean()\n",
    "std1_DWS_2 = team_stats_final[(team_stats_final.Playoffs == 'Yes')].DWS_Diff.var()\n",
    "\n",
    "n2_DWS_2 = team_stats_final[(team_stats_final.Playoffs == 'No')].DWS_Diff.shape[0]\n",
    "avg2_DWS_2 = team_stats_final[(team_stats_final.Playoffs == 'No')].DWS_Diff.mean()\n",
    "std2_DWS_2 = team_stats_final[(team_stats_final.Playoffs == 'No')].DWS_Diff.var()\n",
    "\n",
    "upper_DWS_2 = (avg1_DWS_2 - avg2_DWS_2) + 1.96*math.sqrt(std1_DWS_2/n1_DWS_2 + std2_DWS_2/n2_DWS_2)\n",
    "lower_DWS_2 = (avg1_DWS_2 - avg2_DWS_2) - 1.96*math.sqrt(std1_DWS_2/n1_DWS_2 + std2_DWS_2/n2_DWS_2)\n",
    "\n",
    "print(lower_DWS_2, upper_DWS_2)"
   ]
  },
  {
   "cell_type": "markdown",
   "metadata": {},
   "source": [
    "## **Hypothesis 2 Results**\n",
    "\n",
    "There is a statistically significant difference between the differences in OBPM, DBPM, OWS, and DWS between the starters and reserves for playoff-qualifying teams and non-playoff qualifying teams. We reject the null hypothesis with p-values of <0.001 for all 4 statistical categories. Playoff-qualifying teams had larger differences than non-playoff qualifying teams for all 4 statistical categories, with larger differences in the offensive statistics than defensive statistics. We can therefore conclude that starters have a greater impact on playoff qualification than reserves, and that the offensive performance of the starters has a greater influence on playoff qualification than defensive performance."
   ]
  },
  {
   "cell_type": "markdown",
   "metadata": {},
   "source": [
    "# **Hypothesis 3**"
   ]
  },
  {
   "cell_type": "code",
   "execution_count": 87,
   "metadata": {},
   "outputs": [],
   "source": [
    "players_pg = y82_player_stats[(y82_player_stats.POS_final == 'PG') & (y82_player_stats.Role != 0)].copy()\n",
    "players_sg = y82_player_stats[(y82_player_stats.POS_final == 'SG') & (y82_player_stats.Role != 0)].copy()\n",
    "players_sf = y82_player_stats[(y82_player_stats.POS_final == 'SF') & (y82_player_stats.Role != 0)].copy()\n",
    "players_pf = y82_player_stats[(y82_player_stats.POS_final == 'PF') & (y82_player_stats.Role != 0)].copy()\n",
    "players_c = y82_player_stats[(y82_player_stats.POS_final == 'C') & (y82_player_stats.Role != 0)].copy()"
   ]
  },
  {
   "cell_type": "code",
   "execution_count": 88,
   "metadata": {},
   "outputs": [
    {
     "data": {
      "text/plain": [
       "F_onewayResult(statistic=393.1327990665157, pvalue=1.148e-320)"
      ]
     },
     "execution_count": 88,
     "metadata": {},
     "output_type": "execute_result"
    }
   ],
   "source": [
    "stats.f_oneway(players_pg.OBPM, players_sg.OBPM, players_sf.OBPM, players_pf.OBPM, players_c.OBPM)"
   ]
  },
  {
   "cell_type": "code",
   "execution_count": 89,
   "metadata": {},
   "outputs": [
    {
     "data": {
      "text/plain": [
       "F_onewayResult(statistic=1013.998822018715, pvalue=0.0)"
      ]
     },
     "execution_count": 89,
     "metadata": {},
     "output_type": "execute_result"
    }
   ],
   "source": [
    "stats.f_oneway(players_pg.DBPM, players_sg.DBPM, players_sf.DBPM, players_pf.DBPM, players_c.DBPM)"
   ]
  },
  {
   "cell_type": "code",
   "execution_count": 90,
   "metadata": {},
   "outputs": [
    {
     "data": {
      "text/plain": [
       "F_onewayResult(statistic=16.214141682676928, pvalue=2.970232694389932e-13)"
      ]
     },
     "execution_count": 90,
     "metadata": {},
     "output_type": "execute_result"
    }
   ],
   "source": [
    "stats.f_oneway(players_pg.OWS, players_sg.OWS, players_sf.OWS, players_pf.OWS, players_c.OWS)"
   ]
  },
  {
   "cell_type": "code",
   "execution_count": 91,
   "metadata": {},
   "outputs": [
    {
     "data": {
      "text/plain": [
       "F_onewayResult(statistic=99.42146951413322, pvalue=1.5650361364684957e-83)"
      ]
     },
     "execution_count": 91,
     "metadata": {},
     "output_type": "execute_result"
    }
   ],
   "source": [
    "stats.f_oneway(players_pg.DWS, players_sg.DWS, players_sf.DWS, players_pf.DWS, players_c.DWS)"
   ]
  },
  {
   "cell_type": "code",
   "execution_count": 92,
   "metadata": {},
   "outputs": [
    {
     "data": {
      "text/html": [
       "<table class=\"simpletable\">\n",
       "<caption>Multiple Comparison of Means - Tukey HSD, FWER=0.05</caption>\n",
       "<tr>\n",
       "  <th>group1</th> <th>group2</th> <th>meandiff</th>  <th>p-adj</th>  <th>lower</th>   <th>upper</th>  <th>reject</th>\n",
       "</tr>\n",
       "<tr>\n",
       "     <td>C</td>     <td>PF</td>    <td>0.8806</td>   <td>0.001</td> <td>0.7046</td>  <td>1.0565</td>   <td>True</td> \n",
       "</tr>\n",
       "<tr>\n",
       "     <td>C</td>     <td>PG</td>    <td>2.1684</td>   <td>0.001</td> <td>1.9905</td>  <td>2.3463</td>   <td>True</td> \n",
       "</tr>\n",
       "<tr>\n",
       "     <td>C</td>     <td>SF</td>    <td>1.7291</td>   <td>0.001</td> <td>1.5498</td>  <td>1.9084</td>   <td>True</td> \n",
       "</tr>\n",
       "<tr>\n",
       "     <td>C</td>     <td>SG</td>    <td>2.0502</td>   <td>0.001</td> <td>1.8715</td>  <td>2.2289</td>   <td>True</td> \n",
       "</tr>\n",
       "<tr>\n",
       "    <td>PF</td>     <td>PG</td>    <td>1.2879</td>   <td>0.001</td>  <td>1.112</td>  <td>1.4637</td>   <td>True</td> \n",
       "</tr>\n",
       "<tr>\n",
       "    <td>PF</td>     <td>SF</td>    <td>0.8485</td>   <td>0.001</td> <td>0.6713</td>  <td>1.0258</td>   <td>True</td> \n",
       "</tr>\n",
       "<tr>\n",
       "    <td>PF</td>     <td>SG</td>    <td>1.1696</td>   <td>0.001</td>  <td>0.993</td>  <td>1.3463</td>   <td>True</td> \n",
       "</tr>\n",
       "<tr>\n",
       "    <td>PG</td>     <td>SF</td>    <td>-0.4393</td>  <td>0.001</td> <td>-0.6185</td> <td>-0.2601</td>  <td>True</td> \n",
       "</tr>\n",
       "<tr>\n",
       "    <td>PG</td>     <td>SG</td>    <td>-0.1183</td> <td>0.3705</td> <td>-0.2968</td> <td>0.0603</td>   <td>False</td>\n",
       "</tr>\n",
       "<tr>\n",
       "    <td>SF</td>     <td>SG</td>    <td>0.3211</td>   <td>0.001</td> <td>0.1411</td>  <td>0.5011</td>   <td>True</td> \n",
       "</tr>\n",
       "</table>"
      ],
      "text/plain": [
       "<class 'statsmodels.iolib.table.SimpleTable'>"
      ]
     },
     "execution_count": 92,
     "metadata": {},
     "output_type": "execute_result"
    }
   ],
   "source": [
    "tukey_OBPM = pairwise_tukeyhsd(endog = y82_player_stats[(y82_player_stats.Role != 0)].OBPM,\n",
    "                          groups = y82_player_stats[(y82_player_stats.Role != 0)].POS_final,\n",
    "                          alpha=0.05)\n",
    "\n",
    "tukey_OBPM.summary()"
   ]
  },
  {
   "cell_type": "code",
   "execution_count": 93,
   "metadata": {},
   "outputs": [
    {
     "data": {
      "text/plain": [
       "<matplotlib.axes._subplots.AxesSubplot at 0x292741863c8>"
      ]
     },
     "execution_count": 93,
     "metadata": {},
     "output_type": "execute_result"
    },
    {
     "data": {
      "image/png": "[encoded data removed]",
      "text/plain": [
       "<Figure size 720x432 with 1 Axes>"
      ]
     },
     "metadata": {
      "needs_background": "light"
     },
     "output_type": "display_data"
    }
   ],
   "source": [
    "y82_player_stats[(y82_player_stats.Role != 0)].boxplot('OBPM', by='POS_final', figsize=(10, 6))"
   ]
  },
  {
   "cell_type": "code",
   "execution_count": 94,
   "metadata": {},
   "outputs": [
    {
     "data": {
      "text/html": [
       "<table class=\"simpletable\">\n",
       "<caption>Multiple Comparison of Means - Tukey HSD, FWER=0.05</caption>\n",
       "<tr>\n",
       "  <th>group1</th> <th>group2</th> <th>meandiff</th> <th>p-adj</th>  <th>lower</th>   <th>upper</th>  <th>reject</th>\n",
       "</tr>\n",
       "<tr>\n",
       "     <td>C</td>     <td>PF</td>    <td>-0.6823</td> <td>0.001</td> <td>-0.7933</td> <td>-0.5713</td>  <td>True</td> \n",
       "</tr>\n",
       "<tr>\n",
       "     <td>C</td>     <td>PG</td>    <td>-2.2758</td> <td>0.001</td> <td>-2.388</td>  <td>-2.1636</td>  <td>True</td> \n",
       "</tr>\n",
       "<tr>\n",
       "     <td>C</td>     <td>SF</td>    <td>-1.3012</td> <td>0.001</td> <td>-1.4143</td> <td>-1.188</td>   <td>True</td> \n",
       "</tr>\n",
       "<tr>\n",
       "     <td>C</td>     <td>SG</td>    <td>-1.9478</td> <td>0.001</td> <td>-2.0605</td> <td>-1.8351</td>  <td>True</td> \n",
       "</tr>\n",
       "<tr>\n",
       "    <td>PF</td>     <td>PG</td>    <td>-1.5935</td> <td>0.001</td> <td>-1.7044</td> <td>-1.4825</td>  <td>True</td> \n",
       "</tr>\n",
       "<tr>\n",
       "    <td>PF</td>     <td>SF</td>    <td>-0.6188</td> <td>0.001</td> <td>-0.7307</td> <td>-0.507</td>   <td>True</td> \n",
       "</tr>\n",
       "<tr>\n",
       "    <td>PF</td>     <td>SG</td>    <td>-1.2655</td> <td>0.001</td> <td>-1.3769</td> <td>-1.154</td>   <td>True</td> \n",
       "</tr>\n",
       "<tr>\n",
       "    <td>PG</td>     <td>SF</td>    <td>0.9746</td>  <td>0.001</td> <td>0.8616</td>  <td>1.0877</td>   <td>True</td> \n",
       "</tr>\n",
       "<tr>\n",
       "    <td>PG</td>     <td>SG</td>     <td>0.328</td>  <td>0.001</td> <td>0.2154</td>  <td>0.4407</td>   <td>True</td> \n",
       "</tr>\n",
       "<tr>\n",
       "    <td>SF</td>     <td>SG</td>    <td>-0.6466</td> <td>0.001</td> <td>-0.7602</td> <td>-0.5331</td>  <td>True</td> \n",
       "</tr>\n",
       "</table>"
      ],
      "text/plain": [
       "<class 'statsmodels.iolib.table.SimpleTable'>"
      ]
     },
     "execution_count": 94,
     "metadata": {},
     "output_type": "execute_result"
    }
   ],
   "source": [
    "tukey_DBPM = pairwise_tukeyhsd(endog = y82_player_stats[(y82_player_stats.Role != 0)].DBPM,\n",
    "                          groups = y82_player_stats[(y82_player_stats.Role != 0)].POS_final,\n",
    "                          alpha=0.05)\n",
    "\n",
    "tukey_DBPM.summary()"
   ]
  },
  {
   "cell_type": "code",
   "execution_count": 97,
   "metadata": {},
   "outputs": [
    {
     "data": {
      "text/plain": [
       "<matplotlib.axes._subplots.AxesSubplot at 0x292742e3b88>"
      ]
     },
     "execution_count": 97,
     "metadata": {},
     "output_type": "execute_result"
    },
    {
     "data": {
      "image/png": "[encoded data removed]",
      "text/plain": [
       "<Figure size 720x432 with 1 Axes>"
      ]
     },
     "metadata": {
      "needs_background": "light"
     },
     "output_type": "display_data"
    }
   ],
   "source": [
    "y82_player_stats[(y82_player_stats.Role != 0)].boxplot('DBPM', by='POS_final', figsize=(10, 6))"
   ]
  },
  {
   "cell_type": "code",
   "execution_count": 95,
   "metadata": {},
   "outputs": [
    {
     "data": {
      "text/html": [
       "<table class=\"simpletable\">\n",
       "<caption>Multiple Comparison of Means - Tukey HSD, FWER=0.05</caption>\n",
       "<tr>\n",
       "  <th>group1</th> <th>group2</th> <th>meandiff</th>  <th>p-adj</th>  <th>lower</th>   <th>upper</th> <th>reject</th>\n",
       "</tr>\n",
       "<tr>\n",
       "     <td>C</td>     <td>PF</td>    <td>0.2689</td>   <td>0.001</td> <td>0.1079</td>   <td>0.43</td>   <td>True</td> \n",
       "</tr>\n",
       "<tr>\n",
       "     <td>C</td>     <td>PG</td>    <td>0.4372</td>   <td>0.001</td> <td>0.2743</td>    <td>0.6</td>   <td>True</td> \n",
       "</tr>\n",
       "<tr>\n",
       "     <td>C</td>     <td>SF</td>    <td>0.3333</td>   <td>0.001</td> <td>0.1692</td>  <td>0.4974</td>  <td>True</td> \n",
       "</tr>\n",
       "<tr>\n",
       "     <td>C</td>     <td>SG</td>    <td>0.3789</td>   <td>0.001</td> <td>0.2154</td>  <td>0.5424</td>  <td>True</td> \n",
       "</tr>\n",
       "<tr>\n",
       "    <td>PF</td>     <td>PG</td>    <td>0.1682</td>  <td>0.0354</td> <td>0.0073</td>  <td>0.3292</td>  <td>True</td> \n",
       "</tr>\n",
       "<tr>\n",
       "    <td>PF</td>     <td>SF</td>    <td>0.0644</td>  <td>0.7909</td> <td>-0.0979</td> <td>0.2266</td>  <td>False</td>\n",
       "</tr>\n",
       "<tr>\n",
       "    <td>PF</td>     <td>SG</td>     <td>0.11</td>   <td>0.3418</td> <td>-0.0517</td> <td>0.2717</td>  <td>False</td>\n",
       "</tr>\n",
       "<tr>\n",
       "    <td>PG</td>     <td>SF</td>    <td>-0.1038</td>  <td>0.419</td> <td>-0.2678</td> <td>0.0602</td>  <td>False</td>\n",
       "</tr>\n",
       "<tr>\n",
       "    <td>PG</td>     <td>SG</td>    <td>-0.0582</td> <td>0.8537</td> <td>-0.2217</td> <td>0.1052</td>  <td>False</td>\n",
       "</tr>\n",
       "<tr>\n",
       "    <td>SF</td>     <td>SG</td>    <td>0.0456</td>    <td>0.9</td>  <td>-0.1191</td> <td>0.2103</td>  <td>False</td>\n",
       "</tr>\n",
       "</table>"
      ],
      "text/plain": [
       "<class 'statsmodels.iolib.table.SimpleTable'>"
      ]
     },
     "execution_count": 95,
     "metadata": {},
     "output_type": "execute_result"
    }
   ],
   "source": [
    "tukey_OWS = pairwise_tukeyhsd(endog = y82_player_stats[(y82_player_stats.Role != 0)].OWS,\n",
    "                          groups = y82_player_stats[(y82_player_stats.Role != 0)].POS_final,\n",
    "                          alpha=0.05)\n",
    "\n",
    "tukey_OWS.summary()"
   ]
  },
  {
   "cell_type": "code",
   "execution_count": 98,
   "metadata": {},
   "outputs": [
    {
     "data": {
      "text/plain": [
       "<matplotlib.axes._subplots.AxesSubplot at 0x292743276c8>"
      ]
     },
     "execution_count": 98,
     "metadata": {},
     "output_type": "execute_result"
    },
    {
     "data": {
      "image/png": "[encoded data removed]",
      "text/plain": [
       "<Figure size 720x432 with 1 Axes>"
      ]
     },
     "metadata": {
      "needs_background": "light"
     },
     "output_type": "display_data"
    }
   ],
   "source": [
    "y82_player_stats[(y82_player_stats.Role != 0)].boxplot('OWS', by='POS_final', figsize=(10, 6))"
   ]
  },
  {
   "cell_type": "code",
   "execution_count": 96,
   "metadata": {},
   "outputs": [
    {
     "data": {
      "text/html": [
       "<table class=\"simpletable\">\n",
       "<caption>Multiple Comparison of Means - Tukey HSD, FWER=0.05</caption>\n",
       "<tr>\n",
       "  <th>group1</th> <th>group2</th> <th>meandiff</th> <th>p-adj</th>  <th>lower</th>   <th>upper</th>  <th>reject</th>\n",
       "</tr>\n",
       "<tr>\n",
       "     <td>C</td>     <td>PF</td>    <td>-0.0451</td> <td>0.613</td> <td>-0.1331</td>  <td>0.043</td>   <td>False</td>\n",
       "</tr>\n",
       "<tr>\n",
       "     <td>C</td>     <td>PG</td>    <td>-0.4817</td> <td>0.001</td> <td>-0.5707</td> <td>-0.3927</td>  <td>True</td> \n",
       "</tr>\n",
       "<tr>\n",
       "     <td>C</td>     <td>SF</td>    <td>-0.298</td>  <td>0.001</td> <td>-0.3877</td> <td>-0.2083</td>  <td>True</td> \n",
       "</tr>\n",
       "<tr>\n",
       "     <td>C</td>     <td>SG</td>    <td>-0.4743</td> <td>0.001</td> <td>-0.5637</td> <td>-0.3849</td>  <td>True</td> \n",
       "</tr>\n",
       "<tr>\n",
       "    <td>PF</td>     <td>PG</td>    <td>-0.4366</td> <td>0.001</td> <td>-0.5246</td> <td>-0.3487</td>  <td>True</td> \n",
       "</tr>\n",
       "<tr>\n",
       "    <td>PF</td>     <td>SF</td>    <td>-0.253</td>  <td>0.001</td> <td>-0.3417</td> <td>-0.1643</td>  <td>True</td> \n",
       "</tr>\n",
       "<tr>\n",
       "    <td>PF</td>     <td>SG</td>    <td>-0.4293</td> <td>0.001</td> <td>-0.5176</td> <td>-0.3409</td>  <td>True</td> \n",
       "</tr>\n",
       "<tr>\n",
       "    <td>PG</td>     <td>SF</td>    <td>0.1837</td>  <td>0.001</td>  <td>0.094</td>  <td>0.2733</td>   <td>True</td> \n",
       "</tr>\n",
       "<tr>\n",
       "    <td>PG</td>     <td>SG</td>    <td>0.0074</td>   <td>0.9</td>  <td>-0.082</td>  <td>0.0967</td>   <td>False</td>\n",
       "</tr>\n",
       "<tr>\n",
       "    <td>SF</td>     <td>SG</td>    <td>-0.1763</td> <td>0.001</td> <td>-0.2663</td> <td>-0.0863</td>  <td>True</td> \n",
       "</tr>\n",
       "</table>"
      ],
      "text/plain": [
       "<class 'statsmodels.iolib.table.SimpleTable'>"
      ]
     },
     "execution_count": 96,
     "metadata": {},
     "output_type": "execute_result"
    }
   ],
   "source": [
    "tukey_DWS = pairwise_tukeyhsd(endog = y82_player_stats[(y82_player_stats.Role != 0)].DWS,\n",
    "                          groups = y82_player_stats[(y82_player_stats.Role != 0)].POS_final,\n",
    "                          alpha=0.05)\n",
    "\n",
    "tukey_DWS.summary()"
   ]
  },
  {
   "cell_type": "code",
   "execution_count": 99,
   "metadata": {},
   "outputs": [
    {
     "data": {
      "text/plain": [
       "<matplotlib.axes._subplots.AxesSubplot at 0x292743aa808>"
      ]
     },
     "execution_count": 99,
     "metadata": {},
     "output_type": "execute_result"
    },
    {
     "data": {
      "image/png": "[encoded data removed]",
      "text/plain": [
       "<Figure size 720x432 with 1 Axes>"
      ]
     },
     "metadata": {
      "needs_background": "light"
     },
     "output_type": "display_data"
    }
   ],
   "source": [
    "y82_player_stats[(y82_player_stats.Role != 0)].boxplot('DWS', by='POS_final', figsize=(10, 6))"
   ]
  }
 ],
 "metadata": {
  "kernelspec": {
   "display_name": "Python 3",
   "language": "python",
   "name": "python3"
  },
  "language_info": {
   "codemirror_mode": {
    "name": "ipython",
    "version": 3
   },
   "file_extension": ".py",
   "mimetype": "text/x-python",
   "name": "python",
   "nbconvert_exporter": "python",
   "pygments_lexer": "ipython3",
   "version": "3.7.4"
  }
 },
 "nbformat": 4,
 "nbformat_minor": 2
}
